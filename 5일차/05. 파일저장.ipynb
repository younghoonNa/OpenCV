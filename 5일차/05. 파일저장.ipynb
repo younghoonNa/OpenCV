{
 "cells": [
  {
   "cell_type": "markdown",
   "id": "d694b299",
   "metadata": {},
   "source": [
    "# 5. 파일 저장."
   ]
  },
  {
   "cell_type": "markdown",
   "id": "e2ffebae",
   "metadata": {},
   "source": [
    "## 이미지 저장|"
   ]
  },
  {
   "cell_type": "code",
   "execution_count": 3,
   "id": "63feb93f",
   "metadata": {},
   "outputs": [],
   "source": [
    "import cv2 as cv\n",
    "\n",
    "img = cv.imread('img.jpg', cv.IMREAD_GRAYSCALE)\n",
    "cv.imshow('img', img)\n",
    "\n",
    "cv.waitKey(0)\n",
    "cv.destroyAllWindows()\n",
    "\n",
    "for i in range(1,5):\n",
    "    cv.waitKey(1)"
   ]
  },
  {
   "cell_type": "code",
   "execution_count": 4,
   "id": "b7b4582e",
   "metadata": {},
   "outputs": [
    {
     "name": "stdout",
     "output_type": "stream",
     "text": [
      "True\n"
     ]
    }
   ],
   "source": [
    "result = cv.imwrite('img_saveimg.jpg', img)\n",
    "print(result)"
   ]
  },
  {
   "cell_type": "markdown",
   "id": "4e964ddf",
   "metadata": {},
   "source": [
    "## 저장 포맷 변경 (png)"
   ]
  },
  {
   "cell_type": "code",
   "execution_count": 5,
   "id": "8dd5f36b",
   "metadata": {},
   "outputs": [
    {
     "name": "stdout",
     "output_type": "stream",
     "text": [
      "True\n"
     ]
    }
   ],
   "source": [
    "import cv2 as cv\n",
    "\n",
    "img = cv.imread('img.jpg', cv.IMREAD_GRAYSCALE)\n",
    "cv.imshow('img', img)\n",
    "\n",
    "cv.waitKey(0)\n",
    "cv.destroyAllWindows()\n",
    "\n",
    "for i in range(1,5):\n",
    "    cv.waitKey(1)\n",
    "    \n",
    "result = cv.imwrite('img_saveimg.png', img)\n",
    "print(result)"
   ]
  },
  {
   "cell_type": "markdown",
   "id": "e10cb067",
   "metadata": {},
   "source": [
    "## 동영상 저장"
   ]
  },
  {
   "cell_type": "code",
   "execution_count": 26,
   "id": "d2743c95",
   "metadata": {},
   "outputs": [],
   "source": [
    "import cv2 as cv\n",
    "cap = cv.VideoCapture('video.mp4')\n",
    "\n",
    "#코덱 정의\n",
    "fourcc = cv.VideoWriter_fourcc(*'DIVX') #*\"DIVX\" 는 밑에 참조.\n",
    "\n",
    "width = round(cap.get(cv.CAP_PROP_FRAME_WIDTH))\n",
    "height = round(cap.get(cv.CAP_PROP_FRAME_HEIGHT))\n",
    "fps = cap.get(cv.CAP_PROP_FPS) *2\n",
    "\n",
    "out = cv.VideoWriter('output2.avi', fourcc, fps*2, (width, height))\n",
    "        # VideoWriter (저장파일 이름, 코덱명, 프레임 크기, 파일 크기)\n",
    "    \n",
    "\n",
    "while cap.isOpened():\n",
    "    ret, frame = cap.read()\n",
    "    \n",
    "    if not ret:\n",
    "        break\n",
    "        \n",
    "    out.write(frame)\n",
    "    cv.imshow('video', frame)\n",
    "    \n",
    "    c = cv.waitKey(1)\n",
    "    if c is not None and c & 0xFF == ord('q'):\n",
    "        break\n",
    "    \n",
    "out.release() #자원 해제\n",
    "cap.release()\n",
    "cv.destroyAllWindows()\n",
    "\n",
    "for i in range(1,5):\n",
    "    cv.waitKey(1)\n"
   ]
  },
  {
   "cell_type": "code",
   "execution_count": 22,
   "id": "fce22028",
   "metadata": {},
   "outputs": [
    {
     "name": "stdout",
     "output_type": "stream",
     "text": [
      "DIVX\n",
      "D I V X\n",
      "====\n",
      "['DIVX']\n",
      "['D', 'I', 'V', 'X']\n"
     ]
    }
   ],
   "source": [
    "codex = \"DIVX\"\n",
    "print(codex)\n",
    "print(*codex)\n",
    "print(\"====\")\n",
    "print([codex])\n",
    "print([*codex])"
   ]
  }
 ],
 "metadata": {
  "kernelspec": {
   "display_name": "Python 3 (ipykernel)",
   "language": "python",
   "name": "python3"
  },
  "language_info": {
   "codemirror_mode": {
    "name": "ipython",
    "version": 3
   },
   "file_extension": ".py",
   "mimetype": "text/x-python",
   "name": "python",
   "nbconvert_exporter": "python",
   "pygments_lexer": "ipython3",
   "version": "3.9.7"
  }
 },
 "nbformat": 4,
 "nbformat_minor": 5
}
