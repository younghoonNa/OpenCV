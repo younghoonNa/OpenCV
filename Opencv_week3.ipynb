{
 "cells": [
  {
   "cell_type": "code",
   "execution_count": 8,
   "id": "29323b5f-61c3-409c-aad6-851f77b8fca3",
   "metadata": {},
   "outputs": [
    {
     "name": "stdin",
     "output_type": "stream",
     "text": [
      "정수 입력 :  5\n"
     ]
    },
    {
     "name": "stdout",
     "output_type": "stream",
     "text": [
      "odd num\n"
     ]
    }
   ],
   "source": [
    "n = int(input(\"정수 입력 : \"))\n",
    "\n",
    "if(n%2):\n",
    "    print(\"odd num\")\n",
    "else:\n",
    "    print(\"Even num\")"
   ]
  },
  {
   "cell_type": "code",
   "execution_count": 37,
   "id": "60d742e8-b1f9-4ce7-b357-786e8c71d1a4",
   "metadata": {},
   "outputs": [
    {
     "name": "stdout",
     "output_type": "stream",
     "text": [
      "2단 출력\n",
      "2 * 1 = 2 \n",
      "2 * 2 = 4 \n",
      "2 * 3 = 6 \n",
      "2 * 4 = 8 \n",
      "2 * 5 = 10 \n",
      "2 * 6 = 12 \n",
      "2 * 7 = 14 \n",
      "2 * 8 = 16 \n",
      "2 * 9 = 18 \n",
      "\n",
      "\n",
      "3단 출력\n",
      "3 * 1 = 3 \n",
      "3 * 2 = 6 \n",
      "3 * 3 = 9 \n",
      "3 * 4 = 12 \n",
      "3 * 5 = 15 \n",
      "3 * 6 = 18 \n",
      "3 * 7 = 21 \n",
      "3 * 8 = 24 \n",
      "3 * 9 = 27 \n",
      "\n",
      "\n",
      "4단 출력\n",
      "4 * 1 = 4 \n",
      "4 * 2 = 8 \n",
      "4 * 3 = 12 \n",
      "4 * 4 = 16 \n",
      "4 * 5 = 20 \n",
      "4 * 6 = 24 \n",
      "4 * 7 = 28 \n",
      "4 * 8 = 32 \n",
      "4 * 9 = 36 \n",
      "\n",
      "\n",
      "5단 출력\n",
      "5 * 1 = 5 \n",
      "5 * 2 = 10 \n",
      "5 * 3 = 15 \n",
      "5 * 4 = 20 \n",
      "5 * 5 = 25 \n",
      "5 * 6 = 30 \n",
      "5 * 7 = 35 \n",
      "5 * 8 = 40 \n",
      "5 * 9 = 45 \n",
      "\n",
      "\n",
      "6단 출력\n",
      "6 * 1 = 6 \n",
      "6 * 2 = 12 \n",
      "6 * 3 = 18 \n",
      "6 * 4 = 24 \n",
      "6 * 5 = 30 \n",
      "6 * 6 = 36 \n",
      "6 * 7 = 42 \n",
      "6 * 8 = 48 \n",
      "6 * 9 = 54 \n",
      "\n",
      "\n",
      "7단 출력\n",
      "7 * 1 = 7 \n",
      "7 * 2 = 14 \n",
      "7 * 3 = 21 \n",
      "7 * 4 = 28 \n",
      "7 * 5 = 35 \n",
      "7 * 6 = 42 \n",
      "7 * 7 = 49 \n",
      "7 * 8 = 56 \n",
      "7 * 9 = 63 \n",
      "\n",
      "\n",
      "8단 출력\n",
      "8 * 1 = 8 \n",
      "8 * 2 = 16 \n",
      "8 * 3 = 24 \n",
      "8 * 4 = 32 \n",
      "8 * 5 = 40 \n",
      "8 * 6 = 48 \n",
      "8 * 7 = 56 \n",
      "8 * 8 = 64 \n",
      "8 * 9 = 72 \n",
      "\n",
      "\n",
      "9단 출력\n",
      "9 * 1 = 9 \n",
      "9 * 2 = 18 \n",
      "9 * 3 = 27 \n",
      "9 * 4 = 36 \n",
      "9 * 5 = 45 \n",
      "9 * 6 = 54 \n",
      "9 * 7 = 63 \n",
      "9 * 8 = 72 \n",
      "9 * 9 = 81 \n",
      "\n",
      "\n"
     ]
    }
   ],
   "source": [
    "for i in range(2,10):\n",
    "    print(\"{0}단 출력\".format(i))\n",
    "    for j in range(1,10):\n",
    "        print(\"{0} * {1} = {2} \".format(i, j, i*j))\n",
    "        #파이썬 출력양식은 삼성 멀티캠퍼스 특강에서 배웠습니다.\n",
    "    print(\"\\n\")"
   ]
  },
  {
   "cell_type": "code",
   "execution_count": 40,
   "id": "c045014f-5dbf-480a-aa2b-622154c59203",
   "metadata": {},
   "outputs": [
    {
     "name": "stdin",
     "output_type": "stream",
     "text": [
      "문자열 입력 :  google\n"
     ]
    },
    {
     "name": "stdout",
     "output_type": "stream",
     "text": [
      "www.google.com\n"
     ]
    }
   ],
   "source": [
    "def make_URL(x):\n",
    "    return \"www.\"+ x + \".com\"\n",
    "\n",
    "string = input(\"문자열 입력 : \")\n",
    "url = make_URL(string)\n",
    "print(url)"
   ]
  },
  {
   "cell_type": "markdown",
   "id": "cd0fd619-e53e-469d-a6a2-829a0a914fe2",
   "metadata": {
    "tags": []
   },
   "source": [
    "- 무작정 2중 for문 사용 :  $ O(n^2) $\n",
    "- 뒤집기니까 swap을 통한 reverse :  $ O(\\log(n)) $"
   ]
  },
  {
   "cell_type": "code",
   "execution_count": 70,
   "id": "3a4499dd-3565-40e5-a3a9-58c2c0c2babc",
   "metadata": {},
   "outputs": [
    {
     "name": "stdout",
     "output_type": "stream",
     "text": [
      "[2, 4, 6, 8, 10, 12, 14, 16, 18, 20, 22, 24, 26, 28, 30, 32, 34, 36, 38, 40, 42, 44, 46, 48, 50, 52, 54, 56, 58, 60, 62, 64, 66, 68, 70, 72, 74, 76, 78, 80, 82, 84, 86, 88, 90, 92, 94, 96, 98, 100]\n",
      "\n",
      "list의 사이즈는 : 50\n",
      "=======REVERSE=====\n",
      "\n",
      "[100, 98, 96, 94, 92, 90, 88, 86, 84, 82, 80, 78, 76, 74, 72, 70, 68, 66, 64, 62, 60, 58, 56, 54, 52, 50, 48, 46, 44, 42, 40, 38, 36, 34, 32, 30, 28, 26, 24, 22, 20, 18, 16, 14, 12, 10, 8, 6, 4, 2]\n"
     ]
    }
   ],
   "source": [
    "li = []\n",
    "size = 0\n",
    "for i in range(2, 101, 2):\n",
    "    li.append(i)\n",
    "    size+=1\n",
    "    \n",
    "print(li)\n",
    "\n",
    "# 리스트의 사이즈 구하는 법을 모르겠어서 변수를 하나 더 만들어 사용하였습니다.\n",
    "print(\"\\nlist의 사이즈는 : {0}\".format(size))\n",
    "print(\"=======REVERSE=====\\n\")\n",
    "\n",
    "#정렬되어 있는 상황에서 2중 반복문을 사용하면 시간복잡도\n",
    "for i in range(0, size//2):\n",
    "    tmp = li[i]\n",
    "    li[i] = li[(50-1)-i]\n",
    "    li[(50-1)-i] = tmp\n",
    "    \n",
    "print(li)\n"
   ]
  },
  {
   "cell_type": "code",
   "execution_count": 106,
   "id": "d93e9c49-ebe6-4be7-8b89-6acf404dd8ce",
   "metadata": {},
   "outputs": [
    {
     "name": "stdin",
     "output_type": "stream",
     "text": [
      "시간, 분 입력 :  1 10\n"
     ]
    },
    {
     "name": "stdout",
     "output_type": "stream",
     "text": [
      "1시 10분 -> 12시 50분\n"
     ]
    }
   ],
   "source": [
    "def function_time(h,m):\n",
    "    ho = h\n",
    "    mi = m\n",
    "    \n",
    "    if m < 30:\n",
    "        if h == 1: h = 12\n",
    "        else: h -= 1\n",
    "\n",
    "    m = 60-m\n",
    "    \n",
    "    print(\"{0}시 {1}분 -> {2}시 {3}분\".format(ho, mi, h, m))\n",
    "\n",
    "hour, minute = input(\"시간, 분 입력 : \").split()\n",
    "hour = int(hour)\n",
    "minute = int(minute)\n",
    "\n",
    "function_time(hour, minute)\n"
   ]
  },
  {
   "cell_type": "code",
   "execution_count": 52,
   "id": "12595b67-6795-4b45-a4af-1195077ed19c",
   "metadata": {
    "tags": []
   },
   "outputs": [
    {
     "name": "stdout",
     "output_type": "stream",
     "text": [
      "40이 30번으로 가장 많이 나왔습니다.\n"
     ]
    }
   ],
   "source": [
    "from random import randint\n",
    "#난수 1000개 생성\n",
    "\n",
    "numbers = [randint(1,50) for i in range(1000)]\n",
    "# numbers = [randint(40,50) for i in range(1000)] #-> 11개의 수를 1000번 넣었을 때 잘 나오는지\n",
    "\n",
    "\n",
    "arr = []\n",
    "for i in range(0, 51):\n",
    "    arr.append(0)\n",
    "\n",
    "for i in range(1000):\n",
    "    arr[numbers[i]] += 1\n",
    "\n",
    "# for i in range(40, 50):\n",
    "#     print(arr[i])\n",
    "# 잘 들어갔는지 확인\n",
    "\n",
    "max_num = 0\n",
    "max_index = -1\n",
    "for i in range(1, 51):\n",
    "    if(arr[i] >= max_num):\n",
    "        max_num = arr[i]\n",
    "        max_index = i\n",
    "        \n",
    "print(\"{0}이 {1}번으로 가장 많이 나왔습니다.\".format(max_index, max_num))"
   ]
  },
  {
   "cell_type": "code",
   "execution_count": 141,
   "id": "efc2c5af-839e-45da-a252-18e84bd30958",
   "metadata": {},
   "outputs": [
    {
     "data": {
      "text/plain": [
       "array([[ 1.,  2.,  3.,  4.],\n",
       "       [ 5.,  6.,  7.,  8.],\n",
       "       [ 9., 10., 11., 12.]])"
      ]
     },
     "execution_count": 141,
     "metadata": {},
     "output_type": "execute_result"
    }
   ],
   "source": [
    "import numpy as np\n",
    "\n",
    "def functional_array(row, col):\n",
    "    output = np.ndarray((row,col))\n",
    "\n",
    "    for i in range(0,row):\n",
    "        for j in range(0,col):\n",
    "            output[i][j] = i*4 + 1+j\n",
    "\n",
    "    \n",
    "    #내 코드 적기\n",
    "    return output\n",
    "\n",
    "row = 3\n",
    "col = 4\n",
    "functional_array(row, col)"
   ]
  },
  {
   "cell_type": "code",
   "execution_count": 142,
   "id": "a607dd8f-3307-4f1f-b432-b1799e581f02",
   "metadata": {},
   "outputs": [
    {
     "data": {
      "text/plain": [
       "array([[ 1.,  5.,  9.],\n",
       "       [ 2.,  6., 10.],\n",
       "       [ 3.,  7., 11.],\n",
       "       [ 4.,  8., 12.]])"
      ]
     },
     "execution_count": 142,
     "metadata": {},
     "output_type": "execute_result"
    }
   ],
   "source": [
    "import numpy as np\n",
    "array = functional_array(row, col)\n",
    "def transpose(array):\n",
    "    #내 코드 적기\n",
    "    row = output.shape[0]\n",
    "    col = output.shape[1]\n",
    "    \n",
    "    \n",
    "    tmp = np.ndarray((col,row))\n",
    "    array = array.reshape(-1) #output을 1차원으로 피고 새로 만든 2차원에 넣어준다면..?\n",
    "    #reshape 사용 \n",
    "    #새로운 ndarray를 생성해야하나?\n",
    "    #4*3 배열\n",
    "    for i in range(0, row):\n",
    "        for j in range(0, col):\n",
    "            tmp[j][i] = array[i*col + j]\n",
    "\n",
    "    #새로운 ndarray를 생성하지않고 할 수 있는 방법은 없을까?\n",
    "    \n",
    "    return tmp\n",
    "\n",
    "transpose(array)"
   ]
  },
  {
   "cell_type": "code",
   "execution_count": null,
   "id": "91586c8f-7cde-45d5-9273-5bf313e72af2",
   "metadata": {},
   "outputs": [],
   "source": []
  },
  {
   "cell_type": "code",
   "execution_count": 216,
   "id": "636e6d9d-3990-415f-9bad-599cca423e5d",
   "metadata": {},
   "outputs": [
    {
     "name": "stdout",
     "output_type": "stream",
     "text": [
      "총합은 : -1.44 입니다. (소수점 둘째 자리에서 반올림.)\n",
      "평균은 : -0.14 입니다. (소수점 둘째 자리에서 반올림.)\n"
     ]
    }
   ],
   "source": [
    "import numpy as np\n",
    "ran = np.random.randn(10)\n",
    "\n",
    "sum_ran = 0\n",
    "for i in range(ran.shape[0]):\n",
    "    sum_ran += ran[i]\n",
    "    \n",
    "print(\"총합은 : {0} 입니다. (소수점 둘째 자리에서 반올림.)\".format(round(sum_ran, 2)))\n",
    "print(\"평균은 : {0} 입니다. (소수점 둘째 자리에서 반올림.)\".format(round(sum_ran / ran.shape[0], 2)))"
   ]
  },
  {
   "cell_type": "code",
   "execution_count": 237,
   "id": "de188ee5-31ab-4211-b328-7a64c38f86ad",
   "metadata": {},
   "outputs": [
    {
     "name": "stdout",
     "output_type": "stream",
     "text": [
      "24이 25번으로 3등입니다.\n",
      "34이 27번으로 2등입니다..\n",
      "50이 34번으로 가장 많이 나왔습니다.\n"
     ]
    }
   ],
   "source": [
    "from random import randint\n",
    "#난수 1000개 생성\n",
    "\n",
    "numbers = [randint(1,50) for i in range(1000)]\n",
    "# numbers = [randint(40,50) for i in range(1000)] #-> 11개의 수를 1000번 넣었을 때 잘 나오는지\n",
    "\n",
    "\n",
    "arr = []\n",
    "for i in range(0, 51):\n",
    "    arr.append(0)\n",
    "\n",
    "for i in range(1000):\n",
    "    arr[numbers[i]] += 1\n",
    "\n",
    "# for i in range(40, 50):\n",
    "#     print(arr[i])\n",
    "# 잘 들어갔는지 확인\n",
    "\n",
    "max_num = [0, 0, 0]\n",
    "max_index = [-1, -1, -1]\n",
    "for i in range(1, 51):\n",
    "    index = -1\n",
    "    \n",
    "    if(arr[i] >= max_num[0]):\n",
    "        index = 0\n",
    "        if(arr[i] >= max_num[1]):\n",
    "            index = 1\n",
    "            if(arr[i] >= max_num[2]):\n",
    "                index = 2\n",
    "                \n",
    "    \n",
    "        \n",
    "        max_num[index] = arr[i]\n",
    "        max_index[index] = i\n",
    "        \n",
    "print(\"{0}이 {1}번으로 3등입니다.\".format(max_index[0], max_num[0]))\n",
    "print(\"{0}이 {1}번으로 2등입니다..\".format(max_index[1], max_num[1]))\n",
    "print(\"{0}이 {1}번으로 가장 많이 나왔습니다.\".format(max_index[2], max_num[2]))"
   ]
  }
 ],
 "metadata": {
  "kernelspec": {
   "display_name": "Python 3 (ipykernel)",
   "language": "python",
   "name": "python3"
  },
  "language_info": {
   "codemirror_mode": {
    "name": "ipython",
    "version": 3
   },
   "file_extension": ".py",
   "mimetype": "text/x-python",
   "name": "python",
   "nbconvert_exporter": "python",
   "pygments_lexer": "ipython3",
   "version": "3.9.7"
  }
 },
 "nbformat": 4,
 "nbformat_minor": 5
}
