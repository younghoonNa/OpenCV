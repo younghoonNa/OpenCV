{
 "cells": [
  {
   "cell_type": "markdown",
   "id": "4adc461b",
   "metadata": {},
   "source": [
    "# 16. 이미지 변환 (열림 & 닫힘)"
   ]
  },
  {
   "cell_type": "markdown",
   "id": "c5439471",
   "metadata": {},
   "source": [
    "## 열림 (Opening) : 침식 후 팽창.\n",
    "- 깍아서 노이즈 제거 후 살 찌움.\n",
    "\n",
    "> dilate(erode(image)"
   ]
  },
  {
   "cell_type": "code",
   "execution_count": 2,
   "id": "ad5ea7c7",
   "metadata": {},
   "outputs": [],
   "source": [
    "import cv2 as cv\n",
    "import numpy as np\n",
    "\n",
    "kernel = np.ones((3,3), dtype = np.uint8)\n",
    "img = cv.imread('erode.png', cv.IMREAD_GRAYSCALE)\n",
    "\n",
    "erode = cv.erode(img, kernel, iterations=3)\n",
    "dilate = cv.dilate(erode, kernel, iterations = 3)\n",
    "\n",
    "cv.imshow('img', img)\n",
    "cv.imshow('erode', erode)\n",
    "cv.imshow('dilate', dilate)\n",
    "cv.waitKey(0)\n",
    "cv.destroyAllWindows()\n",
    "\n",
    "for i in range(1,5):\n",
    "    cv.waitKey(1)"
   ]
  },
  {
   "cell_type": "markdown",
   "id": "6e839c6e",
   "metadata": {},
   "source": [
    "## 닫힘 (Closing) : 팽창 후 침식\n",
    "- 구멍을 메운 후 다시 깍음\n",
    "> erode(dilate(image))"
   ]
  },
  {
   "cell_type": "code",
   "execution_count": 7,
   "id": "91dfb5c1",
   "metadata": {},
   "outputs": [],
   "source": [
    "import cv2 as cv\n",
    "import numpy as np\n",
    "\n",
    "kernel = np.ones((3,3), dtype = np.uint8)\n",
    "img = cv.imread('dilate.png', cv.IMREAD_GRAYSCALE)\n",
    "\n",
    "dilate = cv.dilate(img, kernel, iterations = 3)\n",
    "erode = cv.erode(dilate, kernel, iterations=3)\n",
    "\n",
    "cv.imshow('img', img)\n",
    "cv.imshow('erode', erode)\n",
    "cv.imshow('dilate', dilate)\n",
    "cv.waitKey(0)\n",
    "cv.destroyAllWindows()\n",
    "\n",
    "for i in range(1,5):\n",
    "    cv.waitKey(1)"
   ]
  }
 ],
 "metadata": {
  "kernelspec": {
   "display_name": "Python 3 (ipykernel)",
   "language": "python",
   "name": "python3"
  },
  "language_info": {
   "codemirror_mode": {
    "name": "ipython",
    "version": 3
   },
   "file_extension": ".py",
   "mimetype": "text/x-python",
   "name": "python",
   "nbconvert_exporter": "python",
   "pygments_lexer": "ipython3",
   "version": "3.9.7"
  }
 },
 "nbformat": 4,
 "nbformat_minor": 5
}
