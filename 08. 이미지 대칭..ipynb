{
 "cells": [
  {
   "cell_type": "markdown",
   "id": "2ba90f69",
   "metadata": {},
   "source": [
    "# 8. 이미지 대칭."
   ]
  },
  {
   "cell_type": "markdown",
   "id": "aa643ed3",
   "metadata": {},
   "source": [
    "### 좌우 대칭."
   ]
  },
  {
   "cell_type": "code",
   "execution_count": 7,
   "id": "1a85701c",
   "metadata": {},
   "outputs": [],
   "source": [
    "import cv2 as cv\n",
    "\n",
    "img = cv.imread('img.jpg')\n",
    "\n",
    "#flip은 이미지 대칭임\n",
    "# flip_horizontal = cv.flip(img, -1) #flip Code >0 좌우 대칭 == horizontal\n",
    "# flip_vertical = cv.flip(img, 0) #flip Code == 0 상하 대칭 == vertical\n",
    "flip_both = cv.flip(img, -1) #flip Code < 0 상하+좌우 대칭 == vertical + horizontal\n",
    "\n",
    "\n",
    "cv.imshow('img', img)\n",
    "# cv.imshow('flip_horizontal', flip_horizontal)\n",
    "# cv.imshow('flip_horizontal', flip_vertical)\n",
    "cv.imshow('flip_horizontal', flip_both)\n",
    "\n",
    "\n",
    "\n",
    "cv.waitKey(0)\n",
    "cv.destroyAllWindows()\n",
    "\n",
    "for i in range(1,5):\n",
    "    cv.waitKey(1)"
   ]
  }
 ],
 "metadata": {
  "kernelspec": {
   "display_name": "Python 3 (ipykernel)",
   "language": "python",
   "name": "python3"
  },
  "language_info": {
   "codemirror_mode": {
    "name": "ipython",
    "version": 3
   },
   "file_extension": ".py",
   "mimetype": "text/x-python",
   "name": "python",
   "nbconvert_exporter": "python",
   "pygments_lexer": "ipython3",
   "version": "3.9.7"
  }
 },
 "nbformat": 4,
 "nbformat_minor": 5
}
