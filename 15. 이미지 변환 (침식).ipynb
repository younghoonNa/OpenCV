{
 "cells": [
  {
   "cell_type": "markdown",
   "id": "b1959dc6",
   "metadata": {},
   "source": [
    "# 15. 이미지 변환 (침식)"
   ]
  },
  {
   "cell_type": "markdown",
   "id": "c7e821bc",
   "metadata": {},
   "source": [
    "## 이미지를 깎아서 노이즈 제거\n",
    "\n",
    "흰색 영역의 외곽 픽셀을 검은색으로 변경 (팽창과 반대.)"
   ]
  },
  {
   "cell_type": "code",
   "execution_count": 3,
   "id": "07ddaeef",
   "metadata": {},
   "outputs": [],
   "source": [
    "import cv2 as cv\n",
    "import numpy as np\n",
    "\n",
    "img = cv.imread('erode.png', cv.IMREAD_GRAYSCALE)\n",
    "\n",
    "kernel = np.ones((3,3), dtype = np.uint8)\n",
    "# print(kernel)\n",
    "erode1 = cv.erode(img, kernel, iterations = 1)\n",
    "erode2 = cv.erode(img, kernel, iterations = 2)\n",
    "erode3 = cv.erode(img, kernel, iterations = 3)\n",
    "\n",
    "cv.imshow('img', img)\n",
    "cv.imshow('erode1', erode1)\n",
    "cv.imshow('erode2', erode2)\n",
    "cv.imshow('erode3', erode3)\n",
    "\n",
    "cv.waitKey(0)\n",
    "cv.destroyAllWindows()\n",
    "\n",
    "for i in range(1,5):\n",
    "    cv.waitKey(1)"
   ]
  }
 ],
 "metadata": {
  "kernelspec": {
   "display_name": "Python 3 (ipykernel)",
   "language": "python",
   "name": "python3"
  },
  "language_info": {
   "codemirror_mode": {
    "name": "ipython",
    "version": 3
   },
   "file_extension": ".py",
   "mimetype": "text/x-python",
   "name": "python",
   "nbconvert_exporter": "python",
   "pygments_lexer": "ipython3",
   "version": "3.9.7"
  }
 },
 "nbformat": 4,
 "nbformat_minor": 5
}
