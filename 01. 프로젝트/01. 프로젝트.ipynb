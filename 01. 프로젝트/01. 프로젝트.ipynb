{
 "cells": [
  {
   "cell_type": "markdown",
   "id": "8e2338d4",
   "metadata": {},
   "source": [
    "# 프로젝트 : 얼굴을 인식하여 캐릭터 씌우기."
   ]
  },
  {
   "cell_type": "markdown",
   "id": "945ddb94",
   "metadata": {},
   "source": [
    "## Face Detection vs Face Recognition"
   ]
  },
  {
   "cell_type": "code",
   "execution_count": 1,
   "id": "7c3cfc67",
   "metadata": {},
   "outputs": [],
   "source": [
    "# !pip install mediapipe "
   ]
  },
  {
   "cell_type": "code",
   "execution_count": 3,
   "id": "14322ab0",
   "metadata": {},
   "outputs": [],
   "source": [
    "import mediapipe as mp"
   ]
  },
  {
   "cell_type": "code",
   "execution_count": 22,
   "id": "4010e4ee",
   "metadata": {},
   "outputs": [
    {
     "ename": "IndexError",
     "evalue": "index 3 is out of bounds for axis 2 with size 3",
     "output_type": "error",
     "traceback": [
      "\u001b[0;31m---------------------------------------------------------------------------\u001b[0m",
      "\u001b[0;31mIndexError\u001b[0m                                Traceback (most recent call last)",
      "\u001b[0;32m/var/folders/hp/zz_v74bx3912w8s2fz07537r0000gn/T/ipykernel_88706/1684970580.py\u001b[0m in \u001b[0;36m<module>\u001b[0;34m\u001b[0m\n\u001b[1;32m     89\u001b[0m \u001b[0;34m\u001b[0m\u001b[0m\n\u001b[1;32m     90\u001b[0m                 \u001b[0;31m# image, x, y, w, h, overlay_image\u001b[0m\u001b[0;34m\u001b[0m\u001b[0;34m\u001b[0m\u001b[0m\n\u001b[0;32m---> 91\u001b[0;31m                 \u001b[0moverlay\u001b[0m\u001b[0;34m(\u001b[0m\u001b[0mimage\u001b[0m\u001b[0;34m,\u001b[0m \u001b[0;34m*\u001b[0m\u001b[0mright_eye\u001b[0m\u001b[0;34m,\u001b[0m \u001b[0;36m50\u001b[0m\u001b[0;34m,\u001b[0m \u001b[0;36m50\u001b[0m\u001b[0;34m,\u001b[0m \u001b[0mimage_right_eye\u001b[0m\u001b[0;34m)\u001b[0m\u001b[0;34m\u001b[0m\u001b[0;34m\u001b[0m\u001b[0m\n\u001b[0m\u001b[1;32m     92\u001b[0m                 \u001b[0moverlay\u001b[0m\u001b[0;34m(\u001b[0m\u001b[0mimage\u001b[0m\u001b[0;34m,\u001b[0m \u001b[0;34m*\u001b[0m\u001b[0mleft_eye\u001b[0m\u001b[0;34m,\u001b[0m \u001b[0;36m50\u001b[0m\u001b[0;34m,\u001b[0m \u001b[0;36m50\u001b[0m\u001b[0;34m,\u001b[0m \u001b[0mimage_left_eye\u001b[0m\u001b[0;34m)\u001b[0m\u001b[0;34m\u001b[0m\u001b[0;34m\u001b[0m\u001b[0m\n\u001b[1;32m     93\u001b[0m                 \u001b[0moverlay\u001b[0m\u001b[0;34m(\u001b[0m\u001b[0mimage\u001b[0m\u001b[0;34m,\u001b[0m \u001b[0;34m*\u001b[0m\u001b[0mnose_tip\u001b[0m\u001b[0;34m,\u001b[0m \u001b[0;36m150\u001b[0m\u001b[0;34m,\u001b[0m \u001b[0;36m50\u001b[0m\u001b[0;34m,\u001b[0m \u001b[0mimage_nose\u001b[0m\u001b[0;34m)\u001b[0m\u001b[0;34m\u001b[0m\u001b[0;34m\u001b[0m\u001b[0m\n",
      "\u001b[0;32m/var/folders/hp/zz_v74bx3912w8s2fz07537r0000gn/T/ipykernel_88706/1684970580.py\u001b[0m in \u001b[0;36moverlay\u001b[0;34m(image, x, y, w, h, overlay_image)\u001b[0m\n\u001b[1;32m      4\u001b[0m \u001b[0;32mdef\u001b[0m \u001b[0moverlay\u001b[0m\u001b[0;34m(\u001b[0m\u001b[0mimage\u001b[0m\u001b[0;34m,\u001b[0m \u001b[0mx\u001b[0m\u001b[0;34m,\u001b[0m \u001b[0my\u001b[0m\u001b[0;34m,\u001b[0m \u001b[0mw\u001b[0m\u001b[0;34m,\u001b[0m \u001b[0mh\u001b[0m\u001b[0;34m,\u001b[0m \u001b[0moverlay_image\u001b[0m\u001b[0;34m)\u001b[0m\u001b[0;34m:\u001b[0m\u001b[0;34m\u001b[0m\u001b[0;34m\u001b[0m\u001b[0m\n\u001b[1;32m      5\u001b[0m     \u001b[0;31m# 대상 이미지 (3채널), x, y 좌표, width, height, 덮어씌울 이미지 (4채널)\u001b[0m\u001b[0;34m\u001b[0m\u001b[0;34m\u001b[0m\u001b[0m\n\u001b[0;32m----> 6\u001b[0;31m     \u001b[0malpha\u001b[0m \u001b[0;34m=\u001b[0m \u001b[0moverlay_image\u001b[0m\u001b[0;34m[\u001b[0m\u001b[0;34m:\u001b[0m\u001b[0;34m,\u001b[0m \u001b[0;34m:\u001b[0m\u001b[0;34m,\u001b[0m \u001b[0;36m3\u001b[0m\u001b[0;34m]\u001b[0m \u001b[0;31m# BGRA\u001b[0m\u001b[0;34m\u001b[0m\u001b[0;34m\u001b[0m\u001b[0m\n\u001b[0m\u001b[1;32m      7\u001b[0m     \u001b[0mmask_image\u001b[0m \u001b[0;34m=\u001b[0m \u001b[0malpha\u001b[0m \u001b[0;34m/\u001b[0m \u001b[0;36m255\u001b[0m \u001b[0;31m# 0 ~ 255 -> 255 로 나누면 0 ~ 1 사이의 값 (1: 불투명, 0: 완전)\u001b[0m\u001b[0;34m\u001b[0m\u001b[0;34m\u001b[0m\u001b[0m\n\u001b[1;32m      8\u001b[0m     \u001b[0;31m# (255, 255)  ->  (1, 1)\u001b[0m\u001b[0;34m\u001b[0m\u001b[0;34m\u001b[0m\u001b[0m\n",
      "\u001b[0;31mIndexError\u001b[0m: index 3 is out of bounds for axis 2 with size 3"
     ]
    }
   ],
   "source": [
    "import cv2\n",
    "import mediapipe as mp\n",
    "\n",
    "def overlay(image, x, y, w, h, overlay_image): \n",
    "    # 대상 이미지 (3채널), x, y 좌표, width, height, 덮어씌울 이미지 (4채널)\n",
    "    alpha = overlay_image[:, :, 3] # BGRA\n",
    "    mask_image = alpha / 255 # 0 ~ 255 -> 255 로 나누면 0 ~ 1 사이의 값 (1: 불투명, 0: 완전)\n",
    "    # (255, 255)  ->  (1, 1)\n",
    "    # (255, 0)        (1, 0)\n",
    "    \n",
    "    # 1 - mask_image ?\n",
    "    # (0, 0)\n",
    "    # (0, 1)\n",
    "    \n",
    "    for c in range(0, 3): # channel BGR\n",
    "        image[y-h:y+h, x-w:x+w, c] = (overlay_image[:, :, c] * mask_image) + (image[y-h:y+h, x-w:x+w, c] * (1 - mask_image))\n",
    "\n",
    "# 얼굴을 찾고 찾은 얼굴에 표시를 해주기 위한 변수정의\n",
    "mp_face_detection = mp.solutions.face_detection #얼굴 검출을 위한 face_detection model 사용.\n",
    "mp_drawing = mp.solutions.drawing_utils # 얼굴의 특징을 그리기 위한 drawing_utils 모듈 사용.\n",
    "\n",
    "# 동영상 파일 열기.\n",
    "cap = cv2.VideoCapture('face_video.mp4')\n",
    "\n",
    "# 이미지 불러오기.\n",
    "image_right_eye = cv2.imread('right_eye.png', cv2.IMREAD_UNCHANGED) #100x100 \n",
    "image_left_eye = cv2.imread('left_eye.png', cv2.IMREAD_UNCHANGED) # 100x100\n",
    "image_nose = cv2.imread('nose.png', cv2.IMREAD_UNCHANGED) # 300 x 100 (가로, 세로)\n",
    "\n",
    "\n",
    "with mp_face_detection.FaceDetection(model_selection=0, min_detection_confidence=0.7) as face_detection:\n",
    "    # model_selection = 0 근거리(2m), 1 이면 5m 정도의 중거리, \n",
    "    # min_detection_confidence = 0.5 임게치 같은 느낌 확률 이상의 값이면 표시.\n",
    "    while cap.isOpened():\n",
    "        success, image = cap.read() #ret, frame\n",
    "        if not success:\n",
    "            print(\"Ignoring empty camera frame.\")\n",
    "            # If loading a video, use 'break' instead of 'continue'.\n",
    "            break\n",
    "\n",
    "        # To improve performance, optionally mark the image as not writeable to\n",
    "        # pass by reference.\n",
    "        image.flags.writeable = False\n",
    "        image = cv2.cvtColor(image, cv2.COLOR_BGR2RGB)\n",
    "        results = face_detection.process(image)\n",
    "\n",
    "        # Draw the face detection annotations on the image.\n",
    "        image.flags.writeable = True\n",
    "        image = cv2.cvtColor(image, cv2.COLOR_RGB2BGR)\n",
    "        \n",
    "        if results.detections:\n",
    "            # 6개의 특징을 뽑아냄. : 오른쪽 눈 , 왼쪽 눈, 코 밑부분, 입중심, 오른쪽 귀, 왼쪽 귀 (귀 구슬점 이주)\n",
    "            for detection in results.detections:\n",
    "#                 mp_drawing.draw_detection(image, detection)\n",
    "#                 draw_detection : 네모난 사각형 그리고 그에 대한 시각 정보를 그려줌.\n",
    "#                 print(detection)\n",
    "\n",
    "                # 특정 위치 가져오기.\n",
    "                keypoints = detection.location_data.relative_keypoints\n",
    "                right_eye = keypoints[0]\n",
    "                left_eye = keypoints[1]\n",
    "                nose_tip = keypoints[2]\n",
    "                \n",
    "                h, w, _ = image.shape #height , width, Channel\n",
    "                # 이미지로 부터 세로, 가로 크기 가져옴.\n",
    "                \n",
    "                right_eye = (int(right_eye.x * w - 20) , int(right_eye.y * h - 100))\n",
    "                # 이미지에서 실제 좌표 -> 튜플 형식 -> (x,y)\n",
    "                left_eye = (int(left_eye.x * w + 20) , int(left_eye.y * h - 100))\n",
    "                #코 좌표 구하기.\n",
    "                nose_tip = (int(nose_tip.x * w), int(nose_tip.y * h))\n",
    "\n",
    "                #양 눈 그리고 코에 동그라미 그리기.\n",
    "#                 cv2.circle(image, right_eye, 50, (255,0,0), 10, cv2.LINE_AA)\n",
    "#                 cv2.circle(image, left_eye, 50, (0,255,0), 10, cv2.LINE_AA)\n",
    "#                 cv2.circle(image, nose_tip, 75, (0 ,255, 255), 10, cv2.LINE_AA)\n",
    "\n",
    "\n",
    "                # 각 특징에다가 이미지 그리기\n",
    "                # 이미지 크기가 100x100이니까 눈의 중간만큼 지정. -> 그래서 50,50 +- 하는거.\n",
    "#                 image[right_eye[1] - 50: right_eye[1] + 50,  #세로 / 가로\n",
    "#                      right_eye[0]-50 : right_eye[0]+50] = image_right_eye\n",
    "                \n",
    "#                 image[left_eye[1] - 50: left_eye[1] + 50, \n",
    "#                      left_eye[0]-50 : left_eye[0]+50] = image_left_eye\n",
    "                \n",
    "#                 image[nose_tip[1] - 50: nose_tip[1] + 50,\n",
    "#                      nose_tip[0]-150: nose_tip[0]+150] = image_nose\n",
    "\n",
    "#                 # image, x, y, w, h, overlay_image\n",
    "#                 overlay(image, *right_eye, 50, 50, image_right_eye)\n",
    "#                 overlay(image, *left_eye, 50, 50, image_left_eye)\n",
    "#                 overlay(image, *nose_tip, 150, 50, image_nose)\n",
    "                \n",
    "                \n",
    "        # Flip the image horizontally for a selfie-view display.\n",
    "        cv2.imshow('MediaPipe Face Detection', \n",
    "                   cv2.resize(image,None, fx=0.5, fy=0.5))\n",
    "        \n",
    "        c = cv2.waitKey(5)\n",
    "        if c is not None and c & 0xFF == ord('q'):\n",
    "            break\n",
    "cap.release()\n",
    "cv2.destroyAllWindows()\n",
    "\n",
    "for i in range(1,5):\n",
    "    cv2.waitKey(1)"
   ]
  },
  {
   "cell_type": "code",
   "execution_count": null,
   "id": "caff9d12",
   "metadata": {},
   "outputs": [],
   "source": []
  },
  {
   "cell_type": "code",
   "execution_count": null,
   "id": "3936e892",
   "metadata": {},
   "outputs": [],
   "source": []
  },
  {
   "cell_type": "code",
   "execution_count": null,
   "id": "0cce481f",
   "metadata": {},
   "outputs": [],
   "source": []
  },
  {
   "cell_type": "code",
   "execution_count": null,
   "id": "1d05f89c",
   "metadata": {},
   "outputs": [],
   "source": []
  },
  {
   "cell_type": "code",
   "execution_count": null,
   "id": "85762133",
   "metadata": {},
   "outputs": [],
   "source": []
  },
  {
   "cell_type": "code",
   "execution_count": null,
   "id": "f09ae910",
   "metadata": {},
   "outputs": [],
   "source": []
  },
  {
   "cell_type": "code",
   "execution_count": null,
   "id": "371c04f1",
   "metadata": {},
   "outputs": [],
   "source": []
  }
 ],
 "metadata": {
  "kernelspec": {
   "display_name": "Python 3 (ipykernel)",
   "language": "python",
   "name": "python3"
  },
  "language_info": {
   "codemirror_mode": {
    "name": "ipython",
    "version": 3
   },
   "file_extension": ".py",
   "mimetype": "text/x-python",
   "name": "python",
   "nbconvert_exporter": "python",
   "pygments_lexer": "ipython3",
   "version": "3.9.7"
  }
 },
 "nbformat": 4,
 "nbformat_minor": 5
}
