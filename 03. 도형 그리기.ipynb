{
 "cells": [
  {
   "cell_type": "markdown",
   "id": "8e546ec2",
   "metadata": {},
   "source": [
    "# 3. 도형 그리기"
   ]
  },
  {
   "cell_type": "markdown",
   "id": "15ec3df8",
   "metadata": {},
   "source": [
    "## 빈 스케치북 만들기."
   ]
  },
  {
   "cell_type": "code",
   "execution_count": 7,
   "id": "7383e01d",
   "metadata": {},
   "outputs": [
    {
     "data": {
      "text/plain": [
       "-1"
      ]
     },
     "execution_count": 7,
     "metadata": {},
     "output_type": "execute_result"
    }
   ],
   "source": [
    "import cv2 as cv\n",
    "import numpy as np\n",
    "\n",
    "#새로 480 * 가로 640, 채널은 3 (BGR) 에 해당하는 스케치북 만들기\n",
    "\n",
    "img = np.zeros((480, 640, 3) , dtype = np.uint8)\n",
    "\n",
    "# img[:] = (255, 0, 0) #전체 공간을 흰 색으로 채우기. -> B G R  OpenCV에서는 뒤집어서 나옴.\n",
    "# print(img)\n",
    "cv.imshow('img', img)\n",
    "cv.waitKey(0)\n",
    "cv.destroyAllWindows()\n",
    "cv.waitKey(1)\n",
    "cv.waitKey(1)\n",
    "cv.waitKey(1)\n",
    "cv.waitKey(1)"
   ]
  },
  {
   "cell_type": "markdown",
   "id": "a5ec855d",
   "metadata": {},
   "source": [
    "## 일부 영역 색칠"
   ]
  },
  {
   "cell_type": "code",
   "execution_count": 8,
   "id": "24b1a59e",
   "metadata": {},
   "outputs": [
    {
     "data": {
      "text/plain": [
       "-1"
      ]
     },
     "execution_count": 8,
     "metadata": {},
     "output_type": "execute_result"
    }
   ],
   "source": [
    "import cv2 as cv\n",
    "import numpy as np\n",
    "\n",
    "img = np.zeros((480, 640, 3) , dtype = np.uint8)\n",
    "img[100:200, 200:300] = (255,255,255) \n",
    "#세로기준 100부터 200까지. 가로기준 200부터 300까지\n",
    "\n",
    "cv.imshow('img', img)\n",
    "\n",
    "cv.waitKey(0)\n",
    "cv.destroyAllWindows()\n",
    "\n",
    "cv.waitKey(1)\n",
    "cv.waitKey(1)\n",
    "cv.waitKey(1)\n",
    "cv.waitKey(1)"
   ]
  },
  {
   "cell_type": "markdown",
   "id": "01442a60",
   "metadata": {},
   "source": [
    "## 직선\n",
    "\n",
    "> 직선의 종류 (line type)\n",
    "\n",
    "1. cv.LINE_4 : 상하좌우 4방향으로 연결된 선\n",
    "2. cv.LINE_8 : 상하좌우 8방향으로 연결된 선 (기본값)\n",
    "3. cv.LINE_AA  : 부드러운 선 Anti-Aliasing"
   ]
  },
  {
   "cell_type": "code",
   "execution_count": 15,
   "id": "3ab657a5",
   "metadata": {},
   "outputs": [
    {
     "data": {
      "text/plain": [
       "-1"
      ]
     },
     "execution_count": 15,
     "metadata": {},
     "output_type": "execute_result"
    }
   ],
   "source": [
    "import cv2 as cv\n",
    "import numpy as np\n",
    "\n",
    "imp = np.zeros((480, 640, 3), dtype=np.uint8)\n",
    "\n",
    "COLOR = (0,255,255) # BGR 이기 때문에 란색\n",
    "THICKNESS = 3 #두께\n",
    "\n",
    "cv.line(img, (50, 100), (400, 50), COLOR, THICKNESS, cv.LINE_4)\n",
    "# 그릴 위치, 시작 점, 끝 점, 색깔 두께. 선 종류\n",
    "cv.line(img, (50, 200), (400, 150), COLOR, THICKNESS, cv.LINE_8)\n",
    "cv.line(img, (50, 300), (400, 250), COLOR, THICKNESS, cv.LINE_AA)\n",
    "\n",
    "\n",
    "\n",
    "cv.imshow('img', img)\n",
    "cv.waitKey(0)\n",
    "cv.destroyAllWindows()\n",
    "\n",
    "cv.waitKey(1)\n",
    "cv.waitKey(1)\n",
    "cv.waitKey(1)\n",
    "cv.waitKey(1)"
   ]
  },
  {
   "cell_type": "markdown",
   "id": "e8eb6abd",
   "metadata": {},
   "source": [
    "## 원"
   ]
  },
  {
   "cell_type": "code",
   "execution_count": 6,
   "id": "0cb6aec3",
   "metadata": {},
   "outputs": [
    {
     "data": {
      "text/plain": [
       "-1"
      ]
     },
     "execution_count": 6,
     "metadata": {},
     "output_type": "execute_result"
    }
   ],
   "source": [
    "import cv2 as cv\n",
    "import numpy as np\n",
    "\n",
    "img = np.zeros((480, 640, 3), dtype=np.uint8)\n",
    "\n",
    "COLOR = (255 ,255,0) # BGR 이기 때문에 옥색\n",
    "THICKNESS = 10 #두께\n",
    "RADIUS = 50 # 반지름\n",
    "\n",
    "cv.circle(img, (200, 100), RADIUS, COLOR, THICKNESS, cv.LINE_AA) #속이 빈 원\n",
    "#         그릴 위치, 원의 중심점, 반지름, 색갈,     두께,      선 종류\n",
    "\n",
    "cv.circle(img, (400, 100), RADIUS, COLOR, cv.FILLED, cv.LINE_AA) #속이 빈 원\n",
    "\n",
    "\n",
    "cv.imshow('img', img)\n",
    "cv.waitKey(0)\n",
    "cv.destroyAllWindows()\n",
    "\n",
    "cv.waitKey(1)\n",
    "cv.waitKey(1)\n",
    "cv.waitKey(1)\n",
    "cv.waitKey(1)"
   ]
  },
  {
   "cell_type": "markdown",
   "id": "7ecca98f",
   "metadata": {},
   "source": [
    "## 사각형"
   ]
  },
  {
   "cell_type": "code",
   "execution_count": 10,
   "id": "1d8c6de1",
   "metadata": {},
   "outputs": [],
   "source": [
    "import cv2 as cv\n",
    "import numpy as np\n",
    "\n",
    "img_rect = np.zeros((480, 640, 3), dtype = np.uint8)\n",
    "\n",
    "COLOR = (0,255,0) #BGR\n",
    "THICKNESS = 3\n",
    "\n",
    "cv.rectangle(img_rect, (100,100), (200,200), COLOR, THICKNESS)\n",
    "cv.rectangle(img_rect, (400,100), (300,200), COLOR, -1)\n",
    "\n",
    "\n",
    "cv.imshow('img_rect' , img_rect)\n",
    "cv.waitKey(0)\n",
    "cv.destroyAllWindows()\n",
    "\n",
    "for i in range(1,5):\n",
    "    cv.waitKey(1)"
   ]
  },
  {
   "cell_type": "markdown",
   "id": "0bb7d81e",
   "metadata": {},
   "source": [
    "## 다각형"
   ]
  },
  {
   "cell_type": "code",
   "execution_count": 27,
   "id": "1e5313ca",
   "metadata": {},
   "outputs": [],
   "source": [
    "import cv2 as cv\n",
    "import numpy as np\n",
    "\n",
    "img1 = np.zeros((480, 640, 3), dtype = np.uint8)\n",
    "\n",
    "COLOR = (0,0,255) #GBR\n",
    "THICKNESS = 3\n",
    "\n",
    "pts1 = np.array([[100, 100], [200, 100], [100, 200]])\n",
    "pts2 = np.array([[200,100], [300,100], [300,200]])\n",
    "\n",
    "# cv.polylines(img1, [pts1], True, COLOR, THICKNESS, cv.LINE_AA)\n",
    "#           그릴 위치, 그릴 좌표, isClosed(), 색 , 두께, 선 종류\n",
    "# cv.polylines(img1, [pts2], True, COLOR, THICKNESS, cv.LINE_AA\n",
    "\n",
    "cv.polylines(img1, [pts1, pts2], True, COLOR, THICKNESS, cv.LINE_AA) #속이 빈 다각형\n",
    "\n",
    "pts3 = np.array([[[100, 300], [200, 300], [100, 400]], [[200, 300], [300, 300], [300, 400]]])\n",
    "cv.fillPoly(img1, pts3, COLOR, cv.LINE_AA)\n",
    "#     그릴 위치, 그릴 죄표들, 색 , 선 종류\n",
    "\n",
    "cv.imshow('img1', img1)\n",
    "cv.waitKey(0)\n",
    "cv.destroyAllWindows()\n",
    "\n",
    "for i in range(1,5):\n",
    "    cv.waitKey(1)"
   ]
  },
  {
   "cell_type": "code",
   "execution_count": null,
   "id": "1b964a7e",
   "metadata": {},
   "outputs": [],
   "source": []
  },
  {
   "cell_type": "code",
   "execution_count": null,
   "id": "393dab82",
   "metadata": {},
   "outputs": [],
   "source": []
  },
  {
   "cell_type": "code",
   "execution_count": null,
   "id": "9aacca08",
   "metadata": {},
   "outputs": [],
   "source": []
  },
  {
   "cell_type": "code",
   "execution_count": null,
   "id": "1de3e432",
   "metadata": {},
   "outputs": [],
   "source": []
  },
  {
   "cell_type": "code",
   "execution_count": null,
   "id": "94b8452d",
   "metadata": {},
   "outputs": [],
   "source": []
  },
  {
   "cell_type": "code",
   "execution_count": null,
   "id": "6255e417",
   "metadata": {},
   "outputs": [],
   "source": []
  },
  {
   "cell_type": "code",
   "execution_count": null,
   "id": "bbd17ef3",
   "metadata": {},
   "outputs": [],
   "source": []
  },
  {
   "cell_type": "code",
   "execution_count": null,
   "id": "37b3777b",
   "metadata": {},
   "outputs": [],
   "source": []
  },
  {
   "cell_type": "code",
   "execution_count": null,
   "id": "7946c263",
   "metadata": {},
   "outputs": [],
   "source": []
  },
  {
   "cell_type": "code",
   "execution_count": null,
   "id": "0710f997",
   "metadata": {},
   "outputs": [],
   "source": []
  },
  {
   "cell_type": "code",
   "execution_count": null,
   "id": "8b1da4fc",
   "metadata": {},
   "outputs": [],
   "source": []
  },
  {
   "cell_type": "code",
   "execution_count": null,
   "id": "6bee252a",
   "metadata": {},
   "outputs": [],
   "source": []
  },
  {
   "cell_type": "code",
   "execution_count": null,
   "id": "57ad1583",
   "metadata": {},
   "outputs": [],
   "source": []
  },
  {
   "cell_type": "code",
   "execution_count": null,
   "id": "02cb316e",
   "metadata": {},
   "outputs": [],
   "source": []
  }
 ],
 "metadata": {
  "kernelspec": {
   "display_name": "Python 3 (ipykernel)",
   "language": "python",
   "name": "python3"
  },
  "language_info": {
   "codemirror_mode": {
    "name": "ipython",
    "version": 3
   },
   "file_extension": ".py",
   "mimetype": "text/x-python",
   "name": "python",
   "nbconvert_exporter": "python",
   "pygments_lexer": "ipython3",
   "version": "3.9.7"
  }
 },
 "nbformat": 4,
 "nbformat_minor": 5
}
