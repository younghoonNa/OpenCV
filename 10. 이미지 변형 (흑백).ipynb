{
 "cells": [
  {
   "cell_type": "markdown",
   "id": "83f32f0a",
   "metadata": {},
   "source": [
    "# 이미지 변형 (흑백)\n",
    "\n",
    "- 이미지 처리를 하기 위해서는 전처리 과정이 필요한데 그 중 하나가 이 흑백으로의 변형이다."
   ]
  },
  {
   "cell_type": "markdown",
   "id": "7ceb792c",
   "metadata": {},
   "source": [
    "1. 이미지 불러오는걸 흑백으로."
   ]
  },
  {
   "cell_type": "code",
   "execution_count": 2,
   "id": "961ee51c",
   "metadata": {},
   "outputs": [],
   "source": [
    "import cv2 as cv\n",
    "\n",
    "img = cv.imread('img.jpg', cv.IMREAD_GRAYSCALE)\n",
    "\n",
    "cv.imshow('img', img)\n",
    "cv.waitKey(0)\n",
    "cv.destroyAllWindows()\n",
    "\n",
    "for i in range(1,5):\n",
    "    cv.waitKey(1)"
   ]
  },
  {
   "cell_type": "markdown",
   "id": "d725b95e",
   "metadata": {},
   "source": [
    "## but 우리는 이미지를 불러올 때 흑백으로 불러오는 것이 아닌 컬러로 불러와 흑백으로 변형을 해줄 것이다."
   ]
  },
  {
   "cell_type": "code",
   "execution_count": 4,
   "id": "3d2d313b",
   "metadata": {},
   "outputs": [],
   "source": [
    "import cv2 as cv\n",
    "\n",
    "img = cv.imread('img.jpg')\n",
    "\n",
    "dst = cv.cvtColor(img, cv.COLOR_BGR2GRAY)\n",
    "#       converte Color // RGB가 아닌 BGR\n",
    "\n",
    "cv.imshow('img', img)\n",
    "cv.imshow('cvt Gray', dst)\n",
    "\n",
    "cv.waitKey(0)\n",
    "cv.destroyAllWindows()\n",
    "\n",
    "for i in range(1,5):\n",
    "    cv.waitKey(1)"
   ]
  },
  {
   "cell_type": "code",
   "execution_count": null,
   "id": "402059c4",
   "metadata": {},
   "outputs": [],
   "source": []
  },
  {
   "cell_type": "code",
   "execution_count": null,
   "id": "adfbc6cc",
   "metadata": {},
   "outputs": [],
   "source": []
  },
  {
   "cell_type": "code",
   "execution_count": null,
   "id": "70622013",
   "metadata": {},
   "outputs": [],
   "source": []
  },
  {
   "cell_type": "code",
   "execution_count": null,
   "id": "106a7458",
   "metadata": {},
   "outputs": [],
   "source": []
  }
 ],
 "metadata": {
  "kernelspec": {
   "display_name": "Python 3 (ipykernel)",
   "language": "python",
   "name": "python3"
  },
  "language_info": {
   "codemirror_mode": {
    "name": "ipython",
    "version": 3
   },
   "file_extension": ".py",
   "mimetype": "text/x-python",
   "name": "python",
   "nbconvert_exporter": "python",
   "pygments_lexer": "ipython3",
   "version": "3.9.7"
  }
 },
 "nbformat": 4,
 "nbformat_minor": 5
}
