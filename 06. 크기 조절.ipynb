{
 "cells": [
  {
   "cell_type": "markdown",
   "id": "7758b98f",
   "metadata": {},
   "source": [
    "# 6. 크기 조절"
   ]
  },
  {
   "cell_type": "markdown",
   "id": "44e77dfb",
   "metadata": {},
   "source": [
    "## 이미지\n",
    "\n",
    "1. 고정 크기로 설정."
   ]
  },
  {
   "cell_type": "code",
   "execution_count": 1,
   "id": "aaa7a2d0",
   "metadata": {},
   "outputs": [],
   "source": [
    "import cv2 as cv\n",
    "\n",
    "img = cv.imread('img.jpg')\n",
    "dst = cv.resize(img,(400,500))\n",
    "\n",
    "cv.imshow('img',img)\n",
    "cv.imshow('resize', dst)\n",
    "\n",
    "cv.waitKey(0)\n",
    "cv.destroyAllWindows()\n",
    "\n",
    "for i in range(1,5):\n",
    "    cv.waitKey(1)"
   ]
  },
  {
   "cell_type": "markdown",
   "id": "d4ec7fbc",
   "metadata": {},
   "source": [
    "2. 비율으로 조절"
   ]
  },
  {
   "cell_type": "code",
   "execution_count": 3,
   "id": "444bfb58",
   "metadata": {},
   "outputs": [],
   "source": [
    "import cv2 as cv\n",
    "\n",
    "img = cv.imread('img.jpg')\n",
    "# dst = cv.resize(img, None, fx=0.5, fy=0.5)\n",
    "# 0.5 배 축소.\n",
    "dst = cv.resize(img, None, fx=2, fy=2)\n",
    "\n",
    "\n",
    "cv.imshow('img', img)\n",
    "cv.imshow('resize', dst)\n",
    "\n",
    "cv.waitKey(0)\n",
    "cv.destroyAllWindows()\n",
    "\n",
    "for i in range(1,5):\n",
    "    cv.waitKey(1)"
   ]
  },
  {
   "cell_type": "markdown",
   "id": "fb5eb67a",
   "metadata": {},
   "source": [
    "3. 이미지 보간법\n",
    "\n",
    "> cv.INTER_AREA : 크기 줄일 때 사용 <br>\n",
    "> cv.INTER_CUBIC : 크기 늘릴 때 사용 (속도가 느리지만, 퀄리티는 좋음) <br>\n",
    "> cv.INTER_LINEAR : 크기 늘릴 때 사용 (default)<br>"
   ]
  },
  {
   "cell_type": "code",
   "execution_count": 6,
   "id": "6ce8c29d",
   "metadata": {},
   "outputs": [],
   "source": [
    "import cv2 as cv\n",
    "\n",
    "img = cv.imread('img.jpg')\n",
    "# dst = cv.resize(img, None, fx=0.5, fy=0.5, interpolation = cv.INTER_AREA)\n",
    "# 0.5 배 축소. 보간법 적용!\n",
    "dst = cv.resize(img, None, fx=2, fy=2, interpolation = cv.INTER_CUBIC)\n",
    "dst2 = cv.resize(img, None, fx=2, fy=2, interpolation = cv.INTER_LINEAR)\n",
    "\n",
    "# 2배 증가하는데 보간법 적용\n",
    "\n",
    "\n",
    "cv.imshow('img', img)\n",
    "cv.imshow('resize', dst)\n",
    "cv.imshow('resize22', dst2)\n",
    "\n",
    "\n",
    "cv.waitKey(0)\n",
    "cv.destroyAllWindows()\n",
    "\n",
    "for i in range(1,5):\n",
    "    cv.waitKey(1)"
   ]
  },
  {
   "cell_type": "markdown",
   "id": "6466897d",
   "metadata": {},
   "source": [
    "# 동영상 처리"
   ]
  },
  {
   "cell_type": "markdown",
   "id": "4aa751b3",
   "metadata": {},
   "source": [
    "## 고정크기를 통한 크기조절"
   ]
  },
  {
   "cell_type": "code",
   "execution_count": 8,
   "id": "75a500a3",
   "metadata": {},
   "outputs": [],
   "source": [
    "import cv2 as cv\n",
    "\n",
    "cap = cv.VideoCapture('video.mp4')\n",
    "\n",
    "while cap.isOpened():\n",
    "    ret, frame = cap.read()\n",
    "    \n",
    "    if not ret:\n",
    "        break\n",
    "        \n",
    "        \n",
    "    frame_resized = cv.resize(frame,(400,500))\n",
    "        \n",
    "#     cv.imshow('video', frame)\n",
    "    cv.imshow('video', frame_resized)\n",
    "    \n",
    "    c = cv.waitKey(1)\n",
    "    if c is not None and c & 0xFF == ord('q'):\n",
    "        break\n",
    "    \n",
    "cap.release()\n",
    "cv.destroyAllWindows()\n",
    "\n",
    "for i in range(1,5):\n",
    "    cv.waitKey(1)"
   ]
  },
  {
   "cell_type": "markdown",
   "id": "c1b269d5",
   "metadata": {},
   "source": [
    "## 비율을 통한 크기 조절"
   ]
  },
  {
   "cell_type": "code",
   "execution_count": 12,
   "id": "f7828134",
   "metadata": {},
   "outputs": [],
   "source": [
    "import cv2 as cv\n",
    "\n",
    "cap = cv.VideoCapture('video.mp4')\n",
    "\n",
    "while cap.isOpened():\n",
    "    ret, frame = cap.read()\n",
    "    \n",
    "    if not ret:\n",
    "        break\n",
    "        \n",
    "        \n",
    "    frame_resized = cv.resize(frame,None, fx=4, fy=4, interpolation = cv.INTER_CUBIC)\n",
    "        \n",
    "#     cv.imshow('video', frame)\n",
    "    cv.imshow('video', frame_resized)\n",
    "    \n",
    "    c = cv.waitKey(1)\n",
    "    if c is not None and c & 0xFF == ord('q'):\n",
    "        break\n",
    "    \n",
    "cap.release()\n",
    "cv.destroyAllWindows()\n",
    "\n",
    "for i in range(1,5):\n",
    "    cv.waitKey(1)"
   ]
  },
  {
   "cell_type": "code",
   "execution_count": null,
   "id": "a95b8e8f",
   "metadata": {},
   "outputs": [],
   "source": []
  }
 ],
 "metadata": {
  "kernelspec": {
   "display_name": "Python 3.8.11 64-bit ('base': conda)",
   "language": "python",
   "name": "python3811jvsc74a57bd0acd649daf4baae68092a73adbcd9165e96df35ddf61234873ab00059b4ee282e"
  },
  "language_info": {
   "codemirror_mode": {
    "name": "ipython",
    "version": 3
   },
   "file_extension": ".py",
   "mimetype": "text/x-python",
   "name": "python",
   "nbconvert_exporter": "python",
   "pygments_lexer": "ipython3",
   "version": "3.9.7"
  }
 },
 "nbformat": 4,
 "nbformat_minor": 5
}
