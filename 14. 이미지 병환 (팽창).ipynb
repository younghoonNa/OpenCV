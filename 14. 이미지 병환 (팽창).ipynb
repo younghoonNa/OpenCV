{
 "cells": [
  {
   "cell_type": "markdown",
   "id": "94cdf8ca",
   "metadata": {},
   "source": [
    "# 이미지 변환 (팽창)"
   ]
  },
  {
   "cell_type": "markdown",
   "id": "1cc72808",
   "metadata": {},
   "source": [
    "## 이미지를 확장하여 작은 구멍을 채움\n",
    "\n",
    "흰색 영역의 외곽 픽셀 주변에 흰색을 추가."
   ]
  },
  {
   "cell_type": "code",
   "execution_count": 6,
   "id": "3db7d3d6",
   "metadata": {},
   "outputs": [],
   "source": [
    "import cv2 as cv\n",
    "import numpy as np\n",
    "\n",
    "kernel = np.ones((3,3), dtype = np.uint8)\n",
    "# kerneld\n",
    "\n",
    "img = cv.imread('dilate.png', cv.IMREAD_GRAYSCALE)\n",
    "dilate1 = cv.dilate(img, kernel, iterations = 1)\n",
    "dilate2 = cv.dilate(img, kernel, iterations = 2)\n",
    "dilate3 = cv.dilate(img, kernel, iterations = 3)\n",
    "\n",
    "cv.imshow('gray', img)\n",
    "cv.imshow('gray1', dilate1)\n",
    "cv.imshow('gray2', dilate2)\n",
    "cv.imshow('gray3', dilate3)\n",
    "\n",
    "cv.waitKey(0)\n",
    "cv.destroyAllWindows()\n",
    "\n",
    "for i in range(1,5):\n",
    "    cv.waitKey(1)"
   ]
  }
 ],
 "metadata": {
  "kernelspec": {
   "display_name": "Python 3 (ipykernel)",
   "language": "python",
   "name": "python3"
  },
  "language_info": {
   "codemirror_mode": {
    "name": "ipython",
    "version": 3
   },
   "file_extension": ".py",
   "mimetype": "text/x-python",
   "name": "python",
   "nbconvert_exporter": "python",
   "pygments_lexer": "ipython3",
   "version": "3.9.7"
  }
 },
 "nbformat": 4,
 "nbformat_minor": 5
}
