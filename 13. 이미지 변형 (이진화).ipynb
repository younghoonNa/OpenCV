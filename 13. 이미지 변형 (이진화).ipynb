{
 "cells": [
  {
   "cell_type": "markdown",
   "id": "29de235d",
   "metadata": {},
   "source": [
    "# 13. 이미지 변형 (이진화)"
   ]
  },
  {
   "cell_type": "markdown",
   "id": "a7378fd8",
   "metadata": {},
   "source": [
    "## Threshold"
   ]
  },
  {
   "cell_type": "code",
   "execution_count": 2,
   "id": "7fa5fd5c",
   "metadata": {},
   "outputs": [],
   "source": [
    "import cv2 as cv\n",
    "\n",
    "img = cv.imread('book.jpg', cv.IMREAD_GRAYSCALE)\n",
    "\n",
    "ret, binary = cv.threshold(img, 127, 255, cv.THRESH_BINARY)\n",
    "#127보다 크면 255인 흰색으로, 127보다 작으면 모두 흰색.\n",
    "\n",
    "\n",
    "cv.imshow('img', img)\n",
    "cv.imshow('binary', binary)\n",
    "cv.waitKey(0)\n",
    "cv.destroyAllWindows()\n",
    "\n",
    "for i in range(1,5):\n",
    "    cv.waitKey(1)"
   ]
  },
  {
   "cell_type": "markdown",
   "id": "44462de7",
   "metadata": {},
   "source": [
    "## Trackbar (값 변화에 따른 변형 확인)"
   ]
  },
  {
   "cell_type": "code",
   "execution_count": 7,
   "id": "ea801b89",
   "metadata": {},
   "outputs": [],
   "source": [
    "import cv2 as cv\n",
    "\n",
    "def empty(pos):\n",
    "#     print(pos)\n",
    "    pass\n",
    "\n",
    "img = cv.imread('book.jpg', cv.IMREAD_GRAYSCALE)\n",
    "\n",
    "name = \"Trackbar\"\n",
    "cv.namedWindow(name)\n",
    "\n",
    "cv.createTrackbar('threshold', name, 127, 255, empty)\n",
    "# 바의 이름, 바가 들어갈 창의 이름, 초기값, 최대값, 이벤트 처리\n",
    "\n",
    "while True:\n",
    "    thresh = cv.getTrackbarPos('threshold', name) #bar의 이름, 창의 이름\n",
    "    ret, binary = cv.threshold(img, thresh, 255, cv.THRESH_BINARY)\n",
    "    \n",
    "    if not ret:\n",
    "        break\n",
    "        \n",
    "    cv.imshow(name, binary)\n",
    "    \n",
    "    c = cv.waitKey(1)\n",
    "    if c is not None and c & 0xFF == ord('q'):\n",
    "        break\n",
    "        \n",
    "cv.destroyAllWindows()\n",
    "\n",
    "for i in range(1,5):\n",
    "    cv.waitKey(1)"
   ]
  },
  {
   "cell_type": "markdown",
   "id": "a1664c24",
   "metadata": {},
   "source": [
    "## Adaptive Threshold\n",
    "\n",
    "이미지를 작은 영역으로 나누어서 임계치 적용"
   ]
  },
  {
   "cell_type": "code",
   "execution_count": 11,
   "id": "2b4b9e2b",
   "metadata": {},
   "outputs": [],
   "source": [
    "import cv2 as cv\n",
    "\n",
    "def empty(pos):\n",
    "#     print(pos)\n",
    "    pass\n",
    "\n",
    "img = cv.imread('book.jpg', cv.IMREAD_GRAYSCALE)\n",
    "\n",
    "name = \"Trackbar\"\n",
    "cv.namedWindow(name)\n",
    "\n",
    "\n",
    "# 바의 이름, 바가 들어갈 창의 이름, 초기값, 최대값, 이벤트 처리\n",
    "cv.createTrackbar('block_size', name, 25, 100, empty)\n",
    "#block size는 홀수만 가능하며 1보다 큰 값.\n",
    "cv.createTrackbar('c', name, 3, 10, empty)\n",
    "#일반적으로 양수의 값만 사용.\n",
    "\n",
    "while True:\n",
    "    block_size = cv.getTrackbarPos('block_size', name) #bar의 이름, 창의 이름\n",
    "    c = cv.getTrackbarPos('c' , name)\n",
    "    \n",
    "    if block_size <= 1: #1 이하이면 3으로\n",
    "        block_size = 3\n",
    "        \n",
    "    if block_size % 2 == 0: #짝수이면 홀수로\n",
    "        block_size += 1\n",
    "    \n",
    "    binary = cv.adaptiveThreshold(img, 255, cv.ADAPTIVE_THRESH_MEAN_C,\n",
    "                                      cv.THRESH_BINARY, block_size, c)\n",
    "        \n",
    "    cv.imshow(name, binary)\n",
    "    \n",
    "    c = cv.waitKey(1)\n",
    "    if c is not None and c & 0xFF == ord('q'):\n",
    "        break\n",
    "        \n",
    "cv.destroyAllWindows()\n",
    "\n",
    "for i in range(1,5):\n",
    "    cv.waitKey(1)"
   ]
  },
  {
   "cell_type": "markdown",
   "id": "3bd0da3b",
   "metadata": {},
   "source": [
    "## 오츠 알고리즘"
   ]
  },
  {
   "cell_type": "markdown",
   "id": "beb2a36f",
   "metadata": {},
   "source": [
    "Bimodal Image에 사용하기 적합 (최적의 임게치를 자동으로 발견)"
   ]
  },
  {
   "cell_type": "code",
   "execution_count": 14,
   "id": "36cf92d4",
   "metadata": {},
   "outputs": [
    {
     "name": "stdout",
     "output_type": "stream",
     "text": [
      "otsu threshold 100.0\n"
     ]
    }
   ],
   "source": [
    "import cv2 as cv\n",
    "\n",
    "img = cv.imread('book.jpg', cv.IMREAD_GRAYSCALE)\n",
    "\n",
    "# ret, binary = cv.threshold(img, 127, 255, cv.THRSH_BINARY)\n",
    "#일반적인 threshold 적용 방법.\n",
    "\n",
    "ret, otsu = cv.threshold(img, -1, 255, cv.THRESH_BINARY | cv.THRESH_OTSU)\n",
    "print('otsu threshold', ret)\n",
    "\n",
    "cv.imshow('img', img)\n",
    "cv.imshow('binary', binary)\n",
    "cv.imshow('otsu', otsu)\n",
    "cv.waitKey(0)\n",
    "cv.destroyAllWindows()\n",
    "\n",
    "for i in range(1,5):\n",
    "    cv.waitKey(1)"
   ]
  }
 ],
 "metadata": {
  "kernelspec": {
   "display_name": "Python 3 (ipykernel)",
   "language": "python",
   "name": "python3"
  },
  "language_info": {
   "codemirror_mode": {
    "name": "ipython",
    "version": 3
   },
   "file_extension": ".py",
   "mimetype": "text/x-python",
   "name": "python",
   "nbconvert_exporter": "python",
   "pygments_lexer": "ipython3",
   "version": "3.9.7"
  }
 },
 "nbformat": 4,
 "nbformat_minor": 5
}
