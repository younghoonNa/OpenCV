{
 "cells": [
  {
   "cell_type": "markdown",
   "id": "32beef8b",
   "metadata": {},
   "source": [
    "# 18. 이미지 검출(윤곽선)\n",
    "\n"
   ]
  },
  {
   "cell_type": "markdown",
   "id": "46a47e72",
   "metadata": {},
   "source": [
    "## 이미지 검출 (Contour) : 경계선을 연결한 선"
   ]
  },
  {
   "cell_type": "code",
   "execution_count": 10,
   "id": "5c4ad0d4",
   "metadata": {},
   "outputs": [],
   "source": [
    "import cv2 as cv\n",
    "\n",
    "img = cv.imread('cards.png')\n",
    "target_img = img.copy() #사본 이미지\n",
    "\n",
    "gray = cv.cvtColor(img, cv.COLOR_BGR2GRAY)\n",
    "ret, otsu = cv.threshold(gray, -1, 255, cv.THRESH_BINARY | cv.THRESH_OTSU)\n",
    "\n",
    "contours , hierachy = cv.findContours(otsu, cv.RETR_LIST, cv.CHAIN_APPROX_NONE) #윤곽선 검출\n",
    "# 윤곽선 정보, 윤곽선 구조 = \n",
    "# 대상 이미지, 윤곽선을 찾는 모드(mode) , 윤곽선을 찾을 때 사용하는 근사치 방법(method)\n",
    "\n",
    "COLOR = (0, 200, 0)\n",
    "THICKNESS = 2\n",
    "cv.drawContours(target_img, contours, -1, COLOR, THICKNESS) #윤곽선 그리기.\n",
    "# 대상 이미지, 윤곽선 정보, 인덱스(-1은 전체), 색깔, 두꼐 \n",
    "\n",
    "cv.imshow('img', img)\n",
    "cv.imshow('gray', gray)\n",
    "cv.imshow('otsu', otsu)\n",
    "cv.imshow('contour', target_img)\n",
    "cv.waitKey(0)\n",
    "cv.destroyAllWindows()\n",
    "\n",
    "for i in range(1,5):\n",
    "    cv.waitKey(1)"
   ]
  },
  {
   "cell_type": "markdown",
   "id": "96cd76c0",
   "metadata": {},
   "source": [
    "#### 윤곽선 찾기 모드.\n",
    "\n",
    "1. cv.RETR_EXTERNAL : 가장 외곽의 윤곽선만 찾음.\n",
    "2. cv.RETR_LIST : 모든 윤곽선 찾음 (계층 정보 없음)\n",
    "3. cv.RETR_TREE : 모든 윤곽선 찾음 (계층 정보를 트리 구조로 생성)"
   ]
  },
  {
   "cell_type": "markdown",
   "id": "bda0b123",
   "metadata": {},
   "source": [
    "## cv.RETR_EXTERNAL"
   ]
  },
  {
   "cell_type": "code",
   "execution_count": 16,
   "id": "d66a4346",
   "metadata": {},
   "outputs": [
    {
     "name": "stdout",
     "output_type": "stream",
     "text": [
      "[[[ 1 -1 -1 -1]\n",
      "  [ 2  0 -1 -1]\n",
      "  [ 3  1 -1 -1]\n",
      "  [ 4  2 -1 -1]\n",
      "  [ 5  3 -1 -1]\n",
      "  [ 6  4 -1 -1]\n",
      "  [ 7  5 -1 -1]\n",
      "  [-1  6 -1 -1]]]\n",
      "총 발견 횟수 : 8\n"
     ]
    }
   ],
   "source": [
    "import cv2 as cv\n",
    "\n",
    "img = cv.imread('cards.png')\n",
    "target_img = img.copy() #사본 이미지\n",
    "\n",
    "gray = cv.cvtColor(img, cv.COLOR_BGR2GRAY)\n",
    "ret, otsu = cv.threshold(gray, -1, 255, cv.THRESH_BINARY | cv.THRESH_OTSU)\n",
    "\n",
    "contours , hierachy = cv.findContours(otsu, cv.RETR_EXTERNAL, cv.CHAIN_APPROX_NONE) #윤곽선 검출\n",
    "print(hierachy)\n",
    "print('총 발견 횟수 :', len(contours))\n",
    "\n",
    "COLOR = (0, 200, 0)\n",
    "THICKNESS = 2\n",
    "cv.drawContours(target_img, contours, -1, COLOR, THICKNESS) #윤곽선 그리기.\n",
    "# 대상 이미지, 윤곽선 정보, 인덱스(-1은 전체), 색깔, 두꼐 \n",
    "\n",
    "cv.imshow('img', img)\n",
    "cv.imshow('gray', gray)\n",
    "cv.imshow('otsu', otsu)\n",
    "cv.imshow('contour', target_img)\n",
    "cv.waitKey(0)\n",
    "cv.destroyAllWindows()\n",
    "\n",
    "for i in range(1,5):\n",
    "    cv.waitKey(1)"
   ]
  },
  {
   "cell_type": "markdown",
   "id": "1752c825",
   "metadata": {},
   "source": [
    "## cv.RETE_TREE"
   ]
  },
  {
   "cell_type": "code",
   "execution_count": 13,
   "id": "d29c0799",
   "metadata": {
    "scrolled": true
   },
   "outputs": [
    {
     "name": "stdout",
     "output_type": "stream",
     "text": [
      "[[[ 1 -1 -1 -1]\n",
      "  [ 2  0 -1 -1]\n",
      "  [10  1  3 -1]\n",
      "  [ 5 -1  4  2]\n",
      "  [-1 -1 -1  3]\n",
      "  [ 6  3 -1  2]\n",
      "  [ 7  5 -1  2]\n",
      "  [ 8  6 -1  2]\n",
      "  [-1  7  9  2]\n",
      "  [-1 -1 -1  8]\n",
      "  [18  2 11 -1]\n",
      "  [13 -1 12 10]\n",
      "  [-1 -1 -1 11]\n",
      "  [14 11 -1 10]\n",
      "  [15 13 -1 10]\n",
      "  [16 14 -1 10]\n",
      "  [-1 15 17 10]\n",
      "  [-1 -1 -1 16]\n",
      "  [26 10 19 -1]\n",
      "  [21 -1 20 18]\n",
      "  [-1 -1 -1 19]\n",
      "  [22 19 -1 18]\n",
      "  [23 21 -1 18]\n",
      "  [24 22 -1 18]\n",
      "  [-1 23 25 18]\n",
      "  [-1 -1 -1 24]\n",
      "  [34 18 27 -1]\n",
      "  [29 -1 28 26]\n",
      "  [-1 -1 -1 27]\n",
      "  [30 27 -1 26]\n",
      "  [31 29 -1 26]\n",
      "  [32 30 -1 26]\n",
      "  [-1 31 33 26]\n",
      "  [-1 -1 -1 32]\n",
      "  [35 26 -1 -1]\n",
      "  [-1 34 -1 -1]]]\n",
      "총 발견 횟수 : 36\n"
     ]
    }
   ],
   "source": [
    "import cv2 as cv\n",
    "\n",
    "img = cv.imread('cards.png')\n",
    "target_img = img.copy() #사본 이미지\n",
    "\n",
    "gray = cv.cvtColor(img, cv.COLOR_BGR2GRAY)\n",
    "ret, otsu = cv.threshold(gray, -1, 255, cv.THRESH_BINARY | cv.THRESH_OTSU)\n",
    "\n",
    "contours , hierachy = cv.findContours(otsu, cv.RETR_TREE, cv.CHAIN_APPROX_NONE) #윤곽선 검출\n",
    "# 윤곽선 정보, 윤곽선 구조 = \n",
    "# 대상 이미지, 윤곽선을 찾는 모드(mode) , 윤곽선을 찾을 때 사용하는 근사치 방법(method)\n",
    "print(hierachy)\n",
    "print('총 발견 횟수 :', len(contours))\n",
    "\n",
    "COLOR = (0, 200, 0)\n",
    "THICKNESS = 2\n",
    "cv.drawContours(target_img, contours, -1, COLOR, THICKNESS) #윤곽선 그리기.\n",
    "# 대상 이미지, 윤곽선 정보, 인덱스(-1은 전체), 색깔, 두꼐 \n",
    "\n",
    "cv.imshow('img', img)\n",
    "cv.imshow('gray', gray)\n",
    "cv.imshow('otsu', otsu)\n",
    "cv.imshow('contour', target_img)\n",
    "cv.waitKey(0)\n",
    "cv.destroyAllWindows()\n",
    "\n",
    "for i in range(1,5):\n",
    "    cv.waitKey(1)"
   ]
  },
  {
   "cell_type": "markdown",
   "id": "c24143cf",
   "metadata": {},
   "source": [
    "## cv.RETR_LIST"
   ]
  },
  {
   "cell_type": "code",
   "execution_count": 14,
   "id": "ea4df950",
   "metadata": {},
   "outputs": [
    {
     "name": "stdout",
     "output_type": "stream",
     "text": [
      "[[[ 1 -1 -1 -1]\n",
      "  [ 2  0 -1 -1]\n",
      "  [ 3  1 -1 -1]\n",
      "  [ 4  2 -1 -1]\n",
      "  [ 5  3 -1 -1]\n",
      "  [ 6  4 -1 -1]\n",
      "  [ 7  5 -1 -1]\n",
      "  [ 8  6 -1 -1]\n",
      "  [ 9  7 -1 -1]\n",
      "  [10  8 -1 -1]\n",
      "  [11  9 -1 -1]\n",
      "  [12 10 -1 -1]\n",
      "  [13 11 -1 -1]\n",
      "  [14 12 -1 -1]\n",
      "  [15 13 -1 -1]\n",
      "  [16 14 -1 -1]\n",
      "  [17 15 -1 -1]\n",
      "  [18 16 -1 -1]\n",
      "  [19 17 -1 -1]\n",
      "  [20 18 -1 -1]\n",
      "  [21 19 -1 -1]\n",
      "  [22 20 -1 -1]\n",
      "  [23 21 -1 -1]\n",
      "  [24 22 -1 -1]\n",
      "  [25 23 -1 -1]\n",
      "  [26 24 -1 -1]\n",
      "  [27 25 -1 -1]\n",
      "  [28 26 -1 -1]\n",
      "  [29 27 -1 -1]\n",
      "  [30 28 -1 -1]\n",
      "  [31 29 -1 -1]\n",
      "  [32 30 -1 -1]\n",
      "  [33 31 -1 -1]\n",
      "  [34 32 -1 -1]\n",
      "  [35 33 -1 -1]\n",
      "  [-1 34 -1 -1]]]\n",
      "총 발견 횟수 : 36\n"
     ]
    }
   ],
   "source": [
    "import cv2 as cv\n",
    "\n",
    "img = cv.imread('cards.png')\n",
    "target_img = img.copy() #사본 이미지\n",
    "\n",
    "gray = cv.cvtColor(img, cv.COLOR_BGR2GRAY)\n",
    "ret, otsu = cv.threshold(gray, -1, 255, cv.THRESH_BINARY | cv.THRESH_OTSU)\n",
    "\n",
    "contours , hierachy = cv.findContours(otsu, cv.RETR_LIST, cv.CHAIN_APPROX_NONE) #윤곽선 검출\n",
    "# 윤곽선 정보, 윤곽선 구조 = \n",
    "# 대상 이미지, 윤곽선을 찾는 모드(mode) , 윤곽선을 찾을 때 사용하는 근사치 방법(method)\n",
    "print(hierachy)\n",
    "print('총 발견 횟수 :', len(contours))\n",
    "\n",
    "COLOR = (0, 200, 0)\n",
    "THICKNESS = 2\n",
    "cv.drawContours(target_img, contours, -1, COLOR, THICKNESS) #윤곽선 그리기.\n",
    "# 대상 이미지, 윤곽선 정보, 인덱스(-1은 전체), 색깔, 두꼐 \n",
    "\n",
    "cv.imshow('img', img)\n",
    "cv.imshow('gray', gray)\n",
    "cv.imshow('otsu', otsu)\n",
    "cv.imshow('contour', target_img)\n",
    "cv.waitKey(0)\n",
    "cv.destroyAllWindows()\n",
    "\n",
    "for i in range(1,5):\n",
    "    cv.waitKey(1)"
   ]
  },
  {
   "cell_type": "markdown",
   "id": "37def8b6",
   "metadata": {},
   "source": [
    "## 경계 사각형\n",
    "1. 윤곽선의 경게면을 둘러싸는 사각형.\n",
    "> boundingRect()"
   ]
  },
  {
   "cell_type": "code",
   "execution_count": 17,
   "id": "e89cf415",
   "metadata": {},
   "outputs": [],
   "source": [
    "import cv2 as cv\n",
    "\n",
    "img = cv.imread('cards.png')\n",
    "target_img = img.copy() #사본 이미지\n",
    "\n",
    "gray = cv.cvtColor(img, cv.COLOR_BGR2GRAY)\n",
    "ret, otsu = cv.threshold(gray, -1, 255, cv.THRESH_BINARY | cv.THRESH_OTSU)\n",
    "\n",
    "contours , hierachy = cv.findContours(otsu, cv.RETR_LIST, cv.CHAIN_APPROX_NONE) #윤곽선 검출\n",
    "\n",
    "COLOR = (0, 200, 0)\n",
    "THICKNESS = 2\n",
    "\n",
    "for cnt in contours:\n",
    "    x,y, width, height = cv.boundingRect(cnt)\n",
    "    cv.rectangle(target_img, (x,y), (x+width, y+height), COLOR, THICKNESS)\n",
    "\n",
    "cv.imshow('img', img)\n",
    "cv.imshow('gray', gray)\n",
    "cv.imshow('otsu', otsu)\n",
    "cv.imshow('contour', target_img)\n",
    "cv.waitKey(0)\n",
    "cv.destroyAllWindows()\n",
    "\n",
    "for i in range(1,5):\n",
    "    cv.waitKey(1)"
   ]
  },
  {
   "cell_type": "markdown",
   "id": "5a95c6a6",
   "metadata": {},
   "source": [
    "## 면적을 구하는 contourArea()\n",
    "> contourArea()"
   ]
  },
  {
   "cell_type": "code",
   "execution_count": 18,
   "id": "06d37e40",
   "metadata": {},
   "outputs": [],
   "source": [
    "import cv2 as cv\n",
    "\n",
    "img = cv.imread('cards.png')\n",
    "target_img = img.copy() #사본 이미지\n",
    "\n",
    "gray = cv.cvtColor(img, cv.COLOR_BGR2GRAY)\n",
    "ret, otsu = cv.threshold(gray, -1, 255, cv.THRESH_BINARY | cv.THRESH_OTSU)\n",
    "\n",
    "contours , hierachy = cv.findContours(otsu, cv.RETR_LIST, cv.CHAIN_APPROX_NONE) #윤곽선 검출\n",
    "\n",
    "COLOR = (0, 200, 0)\n",
    "THICKNESS = 2\n",
    "\n",
    "for cnt in contours:\n",
    "    if cv.contourArea(cnt) > 25000:\n",
    "        x,y,width, height = cv.boundingRect(cnt)\n",
    "        cv.rectangle(target_img, (x,y), (x+width, y+height), COLOR, THICKNESS)\n",
    "\n",
    "cv.imshow('img', img)\n",
    "# cv.imshow('gray', gray)\n",
    "# cv.imshow('otsu', otsu)\n",
    "cv.imshow('contour', target_img)\n",
    "cv.waitKey(0)\n",
    "cv.destroyAllWindows()\n",
    "\n",
    "for i in range(1,5):\n",
    "    cv.waitKey(1)"
   ]
  },
  {
   "cell_type": "markdown",
   "id": "735b1136",
   "metadata": {},
   "source": [
    "### cv.CHAIN_APPROX_NONE // cv.CHAIN_APPROX_SIMPLE\n",
    "1. None 모든 점에 대해 계산해서\n",
    "2. Simple은 4개의 점에 대해 사각형이 되면"
   ]
  },
  {
   "cell_type": "code",
   "execution_count": null,
   "id": "3d9e5370",
   "metadata": {},
   "outputs": [],
   "source": []
  },
  {
   "cell_type": "code",
   "execution_count": null,
   "id": "27e3e654",
   "metadata": {},
   "outputs": [],
   "source": []
  },
  {
   "cell_type": "code",
   "execution_count": null,
   "id": "0f8c1173",
   "metadata": {},
   "outputs": [],
   "source": []
  }
 ],
 "metadata": {
  "kernelspec": {
   "display_name": "Python 3 (ipykernel)",
   "language": "python",
   "name": "python3"
  },
  "language_info": {
   "codemirror_mode": {
    "name": "ipython",
    "version": 3
   },
   "file_extension": ".py",
   "mimetype": "text/x-python",
   "name": "python",
   "nbconvert_exporter": "python",
   "pygments_lexer": "ipython3",
   "version": "3.9.7"
  }
 },
 "nbformat": 4,
 "nbformat_minor": 5
}
