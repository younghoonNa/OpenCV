{
 "cells": [
  {
   "cell_type": "markdown",
   "id": "28a6e9f9",
   "metadata": {},
   "source": [
    "# 7. 이미지 자르기"
   ]
  },
  {
   "cell_type": "markdown",
   "id": "12bcefeb",
   "metadata": {},
   "source": [
    "1. 영역을 잘라서 새로운 윈도우 창에 표시"
   ]
  },
  {
   "cell_type": "code",
   "execution_count": 3,
   "id": "fe32c192",
   "metadata": {},
   "outputs": [],
   "source": [
    "import cv2 as cv\n",
    "\n",
    "img = cv.imread('img.jpg')\n",
    "# img.shape\n",
    "#(390, 640, 3)\n",
    "\n",
    "# crop = img[세로범위, 가로 범위]\n",
    "crop = img[100:200, 200:400] #세로기준 100에서 200까지, 가로기준 300에서 400까지.\n",
    "\n",
    "cv.imshow('img', img)\n",
    "cv.imshow('crop', crop)\n",
    "\n",
    "cv.waitKey(0)\n",
    "cv.destroyAllWindows()\n",
    "\n",
    "for i in range(1,5):\n",
    "    cv.waitKey(1)"
   ]
  },
  {
   "cell_type": "markdown",
   "id": "273ff356",
   "metadata": {},
   "source": [
    "2. 영역을 잘라서 기존 윈도우에 표시."
   ]
  },
  {
   "cell_type": "code",
   "execution_count": 9,
   "id": "ef24af09",
   "metadata": {},
   "outputs": [],
   "source": [
    "import cv2 as cv\n",
    "\n",
    "img = cv.imread('img.jpg')\n",
    "\n",
    "crop = img[100:200, 200:400]\n",
    "img[100:200, 400:600] = crop  #400에서 600에 crop 이미지를 넣어줌.\n",
    "\n",
    "\n",
    "cv.imshow('img', img)\n",
    "\n",
    "cv.waitKey(0)\n",
    "cv.destroyAllWindows()\n",
    "\n",
    "for i in range(1,5):\n",
    "    cv.waitKey(1)"
   ]
  }
 ],
 "metadata": {
  "kernelspec": {
   "display_name": "Python 3 (ipykernel)",
   "language": "python",
   "name": "python3"
  },
  "language_info": {
   "codemirror_mode": {
    "name": "ipython",
    "version": 3
   },
   "file_extension": ".py",
   "mimetype": "text/x-python",
   "name": "python",
   "nbconvert_exporter": "python",
   "pygments_lexer": "ipython3",
   "version": "3.9.7"
  }
 },
 "nbformat": 4,
 "nbformat_minor": 5
}
