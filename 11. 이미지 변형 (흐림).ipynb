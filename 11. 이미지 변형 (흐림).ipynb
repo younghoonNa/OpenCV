{
 "cells": [
  {
   "cell_type": "markdown",
   "id": "d4ab399b",
   "metadata": {},
   "source": [
    "# 11. 이미지 변형 (흐림)"
   ]
  },
  {
   "cell_type": "markdown",
   "id": "bd29a0fc",
   "metadata": {},
   "source": [
    "## 가우시안 블러\n",
    "\n",
    "1. 커널 사이즈 변화에 따른 흐림\n",
    "2. 표준편차 변화에 따른 흐림."
   ]
  },
  {
   "cell_type": "markdown",
   "id": "84a1bc3d",
   "metadata": {},
   "source": [
    "## 1. 커널 사이즈 변화에 따른 흐림"
   ]
  },
  {
   "cell_type": "code",
   "execution_count": 4,
   "id": "b271d923",
   "metadata": {},
   "outputs": [],
   "source": [
    "import cv2 as cv\n",
    "\n",
    "img = cv.imread('img.jpg')\n",
    "\n",
    "# 커널 사이즈 지정 (3,3) , (5,5), (7,7)\n",
    "kernel_3 = cv.GaussianBlur(img, (3,3) , 0) \n",
    "kernel_5 = cv.GaussianBlur(img, (5,5) , 0) \n",
    "kernel_7 = cv.GaussianBlur(img, (7,7) , 0) \n",
    "\n",
    "# 가우시안 블러를 사용 , 이미지 = img , 커널 사이즈 = 3.3 , 0 = sigma(X) 표준편차 , 0은 오토\n",
    "\n",
    "\n",
    "cv.imshow('img', img)\n",
    "cv.imshow('kernel_3', kernel_3)\n",
    "cv.imshow('kernel_5', kernel_5)\n",
    "cv.imshow('kernel_7', kernel_7)\n",
    "\n",
    "cv.waitKey(0)\n",
    "cv.destroyAllWindows()\n",
    "\n",
    "for i in range(1,5):\n",
    "    cv.waitKey(1)"
   ]
  },
  {
   "cell_type": "markdown",
   "id": "5c5e4073",
   "metadata": {},
   "source": [
    "## 2. 표준편차에 따른 흐림."
   ]
  },
  {
   "cell_type": "code",
   "execution_count": 7,
   "id": "d6de0e27",
   "metadata": {},
   "outputs": [],
   "source": [
    "import cv2 as cv\n",
    "\n",
    "img = cv.imread('img.jpg')\n",
    "\n",
    "# alt 혹은 Option 키를 누르면 한번에 조절이 가능해짐.\n",
    "\n",
    "sigma_1 = cv.GaussianBlur(img, (0,0), 1) #커널 사이즈를 0,0으로 두면 sigma(X) 깂에 의해 자동으로 조절이 됨\n",
    "sigma_2 = cv.GaussianBlur(img, (0,0), 2) #커널 사이즈를 0,0으로 두면 sigma(X) 깂에 의해 자동으로 조절이 됨\n",
    "sigma_3 = cv.GaussianBlur(img, (0,0), 3) #커널 사이즈를 0,0으로 두면 sigma(X) 깂에 의해 자동으로 조절이 됨\n",
    "\n",
    "\n",
    "cv.imshow('img', img)\n",
    "cv.imshow('sigma_1' , sigma_1)\n",
    "cv.imshow('sigma_2', sigma_2)\n",
    "cv.imshow('sigma_3', sigma_3)\n",
    "\n",
    "cv.waitKey(0)\n",
    "cv.destroyAllWindows()\n",
    "\n",
    "for i in range(1,5):\n",
    "    cv.waitKey(1)"
   ]
  }
 ],
 "metadata": {
  "kernelspec": {
   "display_name": "Python 3 (ipykernel)",
   "language": "python",
   "name": "python3"
  },
  "language_info": {
   "codemirror_mode": {
    "name": "ipython",
    "version": 3
   },
   "file_extension": ".py",
   "mimetype": "text/x-python",
   "name": "python",
   "nbconvert_exporter": "python",
   "pygments_lexer": "ipython3",
   "version": "3.9.7"
  }
 },
 "nbformat": 4,
 "nbformat_minor": 5
}
