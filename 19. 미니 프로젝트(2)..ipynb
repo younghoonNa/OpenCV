{
 "cells": [
  {
   "cell_type": "markdown",
   "id": "8460405e",
   "metadata": {},
   "source": [
    "# 미니 프로젝트 : 개별 카드 추출해서 자동저장."
   ]
  },
  {
   "cell_type": "code",
   "execution_count": 3,
   "id": "83c5fe7b",
   "metadata": {},
   "outputs": [],
   "source": [
    "import cv2 as cv\n",
    "\n",
    "img = cv.imread('cards.png')\n",
    "target_img = img.copy() #사본 이미지\n",
    "\n",
    "gray = cv.cvtColor(img, cv.COLOR_BGR2GRAY)\n",
    "ret, otsu = cv.threshold(gray, -1, 255, cv.THRESH_BINARY | cv.THRESH_OTSU)\n",
    "\n",
    "contours , hierachy = cv.findContours(otsu, cv.RETR_LIST, cv.CHAIN_APPROX_NONE) #윤곽선 검출\n",
    "\n",
    "COLOR = (0, 200, 0)\n",
    "THICKNESS = 2\n",
    "\n",
    "idx=1\n",
    "for cnt in contours:\n",
    "    if cv.contourArea(cnt) > 25000:\n",
    "        x,y,width, height = cv.boundingRect(cnt)\n",
    "        cv.rectangle(target_img, (x,y), (x+width, y+height), COLOR, THICKNESS)\n",
    "        \n",
    "        crop = img[y:y+height, x:x+width]\n",
    "        cv.imshow(f'crad_crop_{idx}', crop)\n",
    "        cv.imwrite(f'card_crop_{idx}.png', crop) #파일 저장\n",
    "        idx+=1\n",
    "\n",
    "cv.imshow('img', img)\n",
    "cv.imshow('contour', target_img)\n",
    "cv.waitKey(0)\n",
    "cv.destroyAllWindows()\n",
    "\n",
    "for i in range(1,5):\n",
    "    cv.waitKey(1)"
   ]
  }
 ],
 "metadata": {
  "kernelspec": {
   "display_name": "Python 3 (ipykernel)",
   "language": "python",
   "name": "python3"
  },
  "language_info": {
   "codemirror_mode": {
    "name": "ipython",
    "version": 3
   },
   "file_extension": ".py",
   "mimetype": "text/x-python",
   "name": "python",
   "nbconvert_exporter": "python",
   "pygments_lexer": "ipython3",
   "version": "3.9.7"
  }
 },
 "nbformat": 4,
 "nbformat_minor": 5
}
