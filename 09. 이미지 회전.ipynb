{
 "cells": [
  {
   "cell_type": "markdown",
   "id": "47f7d271",
   "metadata": {},
   "source": [
    "# 이미지 회전"
   ]
  },
  {
   "cell_type": "markdown",
   "id": "163eccc1",
   "metadata": {},
   "source": [
    "## 1. 시계방향으로 90도 회전"
   ]
  },
  {
   "cell_type": "code",
   "execution_count": 5,
   "id": "680f2081",
   "metadata": {},
   "outputs": [],
   "source": [
    "import cv2 as cv\n",
    "\n",
    "img = cv.imread('img.jpg')\n",
    "\n",
    "rotate_90 = cv.rotate(img, cv.ROTATE_90_CLOCKWISE)\n",
    "\n",
    "cv.imshow('img',img)\n",
    "cv.imshow('rotate_90', rotate_90)\n",
    "cv.waitKey(0)\n",
    "cv.destroyAllWindows()\n",
    "\n",
    "for i in range(1,5):\n",
    "    cv.waitKey(1)"
   ]
  },
  {
   "cell_type": "markdown",
   "id": "6c072454",
   "metadata": {},
   "source": [
    "## 2. 시계 방향으로 180도 회전"
   ]
  },
  {
   "cell_type": "code",
   "execution_count": 7,
   "id": "cb5ab65d",
   "metadata": {},
   "outputs": [],
   "source": [
    "import cv2 as cv\n",
    "\n",
    "img = cv.imread('img.jpg')\n",
    "\n",
    "rotate_180 = cv.rotate(img, cv.ROTATE_180)\n",
    "\n",
    "cv.imshow('img', img)\n",
    "cv.imshow('rotate 180', rotate_180)\n",
    "\n",
    "cv.waitKey(0)\n",
    "cv.destroyAllWindows()\n",
    "\n",
    "for i in range(1,5):\n",
    "    cv.waitKey(1)"
   ]
  },
  {
   "cell_type": "markdown",
   "id": "f2449ba9",
   "metadata": {},
   "source": [
    "## 3. 시계 반대 방향으로 90도 회전. \n",
    "> 시계방향으로 270도 회전"
   ]
  },
  {
   "cell_type": "code",
   "execution_count": 14,
   "id": "cd0aed69",
   "metadata": {},
   "outputs": [],
   "source": [
    "import cv2 as cv\n",
    "\n",
    "img = cv.imread('img.jpg')\n",
    "\n",
    "rotate_270 = cv.rotate(img, cv.ROTATE_90_COUNTERCLOCKWISE)\n",
    "#시계 반대방향 90도\n",
    "\n",
    "cv.imshow('img', img)\n",
    "cv.imshow('rotate270', rotate_270)\n",
    "# cv.imshow('rotate90', rotate_90)\n",
    "\n",
    "cv.waitKey(0)\n",
    "cv.destroyAllWindows()\n",
    "\n",
    "for i in range(1,5):\n",
    "    cv.waitKey(1)"
   ]
  }
 ],
 "metadata": {
  "kernelspec": {
   "display_name": "Python 3 (ipykernel)",
   "language": "python",
   "name": "python3"
  },
  "language_info": {
   "codemirror_mode": {
    "name": "ipython",
    "version": 3
   },
   "file_extension": ".py",
   "mimetype": "text/x-python",
   "name": "python",
   "nbconvert_exporter": "python",
   "pygments_lexer": "ipython3",
   "version": "3.9.7"
  }
 },
 "nbformat": 4,
 "nbformat_minor": 5
}
