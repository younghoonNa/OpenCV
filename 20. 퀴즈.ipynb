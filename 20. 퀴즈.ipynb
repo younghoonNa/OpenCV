{
 "cells": [
  {
   "cell_type": "markdown",
   "id": "87a7d408",
   "metadata": {},
   "source": [
    "## OpenCV를 이동하여 가로로 촬영된 영상을 세로로 회전하는  프로그램 작성"
   ]
  },
  {
   "cell_type": "markdown",
   "id": "2469260c",
   "metadata": {},
   "source": [
    "### 조건 \n",
    "1. 회전 : 시계 반대 방향으로 90도\n",
    "2. 재생속도 (FPS) : 원본 x 4배\n",
    "3. 출력 파일명 : city_output.avi(코텍 DIVX)"
   ]
  },
  {
   "cell_type": "code",
   "execution_count": 31,
   "id": "47a3a666",
   "metadata": {},
   "outputs": [],
   "source": [
    "import cv2 as cv\n",
    "\n",
    "cap = cv.VideoCapture('city.mp4')\n",
    "\n",
    "#코덱 정의\n",
    "fourcc = cv.VideoWriter_fourcc(*'DIVX')\n",
    "\n",
    "width = round(cap.get(cv.CAP_PROP_FRAME_WIDTH))\n",
    "height = round(cap.get(cv.CAP_PROP_FRAME_HEIGHT))\n",
    "fps = cap.get(cv.CAP_PROP_FPS)*4\n",
    "\n",
    "out = cv.VideoWriter('city_output.mp4v', fourcc, fps*4, (height, width))\n",
    "        # VideoWriter (저장파일 이름, 코덱명, 프레임 크기, 파일 크기)\n",
    "    \n",
    "\n",
    "while cap.isOpened():\n",
    "    ret, frame = cap.read()\n",
    "    \n",
    "    if not ret:\n",
    "        break\n",
    "    \n",
    "    rotate_frame = cv.rotate(frame, cv.ROTATE_90_COUNTERCLOCKWISE)\n",
    "    \n",
    "    \n",
    "    out.write(rotate_frame)\n",
    "    cv.imshow('video', rotate_frame)\n",
    "        \n",
    "    c = cv.waitKey(1)\n",
    "    if c is not None and c & 0xFF == ord('q'):\n",
    "        break\n",
    "        \n",
    "\n",
    "city.release()\n",
    "out.release()\n",
    "cv.destroyAllWindows()\n",
    "\n",
    "for i in range(1,5):\n",
    "    cv.waitKey(1)"
   ]
  },
  {
   "cell_type": "code",
   "execution_count": 29,
   "id": "c4fe59a4",
   "metadata": {},
   "outputs": [],
   "source": [
    "import cv2\n",
    "cap = cv2.VideoCapture('city.mp4')\n",
    "fourcc = cv2.VideoWriter_fourcc(*'DIVX')\n",
    "width = round(cap.get(cv2.CAP_PROP_FRAME_WIDTH))\n",
    "height = round(cap.get(cv2.CAP_PROP_FRAME_HEIGHT))\n",
    "fps = cap.get(cv2.CAP_PROP_FPS)\n",
    "\n",
    "out = cv2.VideoWriter('city_output.avi', fourcc, fps * 4, (height, width))\n",
    "\n",
    "while cap.isOpened():\n",
    "    ret, frame = cap.read()\n",
    "    if not ret:\n",
    "        break\n",
    "        \n",
    "    rotate_frame = cv2.rotate(frame, cv2.ROTATE_90_COUNTERCLOCKWISE) # 시계 반대 방향으로 90도\n",
    "    out.write(rotate_frame)\n",
    "    cv2.imshow('video', frame)\n",
    "    \n",
    "    if cv2.waitKey(1) == ord('q'):\n",
    "        break\n",
    "        \n",
    "out.release()\n",
    "cap.release()\n",
    "cv2.destroyAllWindows()\n",
    "\n",
    "for i in range(1,5):\n",
    "    cv.waitKey(1)"
   ]
  },
  {
   "cell_type": "code",
   "execution_count": null,
   "id": "2af74940",
   "metadata": {},
   "outputs": [],
   "source": []
  },
  {
   "cell_type": "code",
   "execution_count": null,
   "id": "83ff6b9e",
   "metadata": {},
   "outputs": [],
   "source": []
  }
 ],
 "metadata": {
  "kernelspec": {
   "display_name": "Python 3 (ipykernel)",
   "language": "python",
   "name": "python3"
  },
  "language_info": {
   "codemirror_mode": {
    "name": "ipython",
    "version": 3
   },
   "file_extension": ".py",
   "mimetype": "text/x-python",
   "name": "python",
   "nbconvert_exporter": "python",
   "pygments_lexer": "ipython3",
   "version": "3.9.7"
  }
 },
 "nbformat": 4,
 "nbformat_minor": 5
}
