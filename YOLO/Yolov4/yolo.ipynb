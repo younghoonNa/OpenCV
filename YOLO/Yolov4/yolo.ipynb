{
 "cells": [
  {
   "cell_type": "code",
   "execution_count": 8,
   "id": "5909a035-cbcd-48f5-9078-cf63aa96442c",
   "metadata": {},
   "outputs": [
    {
     "data": {
      "text/plain": [
       "30"
      ]
     },
     "execution_count": 8,
     "metadata": {},
     "output_type": "execute_result"
    }
   ],
   "source": [
    "from glob import glob\n",
    "\n",
    "img_list = glob('build/darknet/x64/data/obj/*.jpeg')\n",
    "\n",
    "len(img_list)"
   ]
  },
  {
   "cell_type": "code",
   "execution_count": 9,
   "id": "3abfb779-9fa5-496a-b1e9-61550dafe855",
   "metadata": {},
   "outputs": [
    {
     "name": "stdout",
     "output_type": "stream",
     "text": [
      "27 3\n"
     ]
    }
   ],
   "source": [
    "from sklearn.model_selection import train_test_split\n",
    "\n",
    "train_img_list, test_img_list = train_test_split(img_list, test_size=0.1, random_state=42) # random_state는 임의로 선택\n",
    "\n",
    "print(len(train_img_list), len(test_img_list))"
   ]
  },
  {
   "cell_type": "code",
   "execution_count": 10,
   "id": "22ede6bf-34a5-4096-b87d-8d730eba1d23",
   "metadata": {},
   "outputs": [],
   "source": [
    "with open('build/darknet/x64/data/train.txt', 'w') as f:\n",
    "    f.write('\\n'.join(train_img_list) + '\\n')\n",
    "\n",
    "with open('build/darknet/x64/data/test.txt', 'w') as f:\n",
    "    f.write('\\n'.join(test_img_list) + '\\n')"
   ]
  },
  {
   "cell_type": "code",
   "execution_count": 18,
   "id": "0b5c93c6-934f-4cfb-9b57-14dc7019456f",
   "metadata": {},
   "outputs": [
    {
     "name": "stdout",
     "output_type": "stream",
     "text": [
      "C:\\Users\\hallym\\Desktop\\darknet\n"
     ]
    }
   ],
   "source": [
    "import os\n",
    "print(os.getcwd())"
   ]
  },
  {
   "cell_type": "code",
   "execution_count": 20,
   "id": "4de8a499-edf7-4d07-94e9-ab8859683fa7",
   "metadata": {},
   "outputs": [],
   "source": [
    "# # %cd darknet\n",
    "# !sed -i 's/OPENCV=0/OPENCV=1/' Makefile\n",
    "# # !sed -i 's/GPU=0/GPU=1/' Makefile\n",
    "# # !sed -i 's/CUDNN=0/CUDNN=1/' Makefile\n",
    "# # !sed -i 's/CUDNN_HALF=0/CUDNN_HALF=1/' Makefile\n",
    "# # !make"
   ]
  },
  {
   "cell_type": "code",
   "execution_count": 23,
   "id": "d42d345a-2b15-479e-90e5-9511722f239a",
   "metadata": {},
   "outputs": [
    {
     "ename": "SyntaxError",
     "evalue": "invalid syntax (Temp/ipykernel_4920/1715582498.py, line 1)",
     "output_type": "error",
     "traceback": [
      "\u001b[1;36m  File \u001b[1;32m\"C:\\Users\\hallym\\AppData\\Local\\Temp/ipykernel_4920/1715582498.py\"\u001b[1;36m, line \u001b[1;32m1\u001b[0m\n\u001b[1;33m    ../darknet detector train data/yolov4-gun.data cfg/yolov4-gun.cfg build/darknet/x64/yolov4.conv.137\u001b[0m\n\u001b[1;37m    ^\u001b[0m\n\u001b[1;31mSyntaxError\u001b[0m\u001b[1;31m:\u001b[0m invalid syntax\n"
     ]
    }
   ],
   "source": [
    "../darknet detector train data/yolov4-gun.data cfg/yolov4-gun.cfg build/darknet/x64/yolov4.conv.137"
   ]
  },
  {
   "cell_type": "code",
   "execution_count": null,
   "id": "6f7c2a90-44cc-469f-beb4-0358da1bb06a",
   "metadata": {},
   "outputs": [],
   "source": []
  }
 ],
 "metadata": {
  "kernelspec": {
   "display_name": "Python 3 (ipykernel)",
   "language": "python",
   "name": "python3"
  },
  "language_info": {
   "codemirror_mode": {
    "name": "ipython",
    "version": 3
   },
   "file_extension": ".py",
   "mimetype": "text/x-python",
   "name": "python",
   "nbconvert_exporter": "python",
   "pygments_lexer": "ipython3",
   "version": "3.9.7"
  }
 },
 "nbformat": 4,
 "nbformat_minor": 5
}
