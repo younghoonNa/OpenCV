{
 "cells": [
  {
   "cell_type": "markdown",
   "id": "bb9119a8",
   "metadata": {},
   "source": [
    "# 17. 이미지 검출 (경계선)"
   ]
  },
  {
   "cell_type": "markdown",
   "id": "fff74d1a",
   "metadata": {},
   "source": [
    "## Canny Edge Detection"
   ]
  },
  {
   "cell_type": "code",
   "execution_count": 5,
   "id": "8e1866e8",
   "metadata": {},
   "outputs": [],
   "source": [
    "import cv2 as cv\n",
    "\n",
    "img = cv.imread('snowman.png')\n",
    "\n",
    "# 대상 이미지, minVal, maxVal  (하위 임계값, 상위 임계값)\n",
    "canny = cv.Canny(img, 150,200)\n",
    "\n",
    "cv.imshow('img', img)\n",
    "cv.imshow('canny', canny)\n",
    "cv.waitKey(0)\n",
    "cv.destroyAllWindows()\n",
    "\n",
    "for i in range(1,5):\n",
    "    cv.waitKey(1)"
   ]
  },
  {
   "cell_type": "code",
   "execution_count": 12,
   "id": "9818aef2",
   "metadata": {},
   "outputs": [],
   "source": [
    "import cv2 as cv\n",
    "\n",
    "def empty(pos):\n",
    "    pass\n",
    "\n",
    "img = cv.imread('snowman.png')\n",
    "\n",
    "name = 'Trackbar'\n",
    "cv.namedWindow(name)\n",
    "cv.createTrackbar('threshold1', name, 0, 255, empty) # minVal\n",
    "cv.createTrackbar('threshold2', name, 0, 255, empty) # maxVal\n",
    "\n",
    "while True:\n",
    "    threshold1 = cv.getTrackbarPos('threshold1', name)\n",
    "    threshold2 = cv.getTrackbarPos('threshold2', name)\n",
    "\n",
    "    # 대상 이미지, minVal, maxVal  (하위 임계값, 상위 임계값)\n",
    "    canny = cv.Canny(img, threshold1 , threshold2)\n",
    "\n",
    "    cv.imshow('img', img)\n",
    "    cv.imshow(name, canny)\n",
    "    \n",
    "    c = cv.waitKey(1)\n",
    "    if c is not None and c & 0xFF == ord('q'):\n",
    "        break\n",
    "    \n",
    "# cv.waitKey(0)\n",
    "cv.destroyAllWindows()\n",
    "\n",
    "for i in range(1,5):\n",
    "    cv.waitKey(1)"
   ]
  }
 ],
 "metadata": {
  "kernelspec": {
   "display_name": "Python 3 (ipykernel)",
   "language": "python",
   "name": "python3"
  },
  "language_info": {
   "codemirror_mode": {
    "name": "ipython",
    "version": 3
   },
   "file_extension": ".py",
   "mimetype": "text/x-python",
   "name": "python",
   "nbconvert_exporter": "python",
   "pygments_lexer": "ipython3",
   "version": "3.9.7"
  }
 },
 "nbformat": 4,
 "nbformat_minor": 5
}
